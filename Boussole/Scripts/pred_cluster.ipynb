{
 "cells": [
  {
   "cell_type": "markdown",
   "metadata": {},
   "source": [
    "# Prediction of the Cluster from hplc_cluster.html\n",
    "\n",
    "We will train a ML classifier on lab cluster data (defined in hplc_cluster notebook) and test it on the insitu data.\n",
    "We will have a go on SVC with RBF kernel and also on Gradient Boosting Classifier."
   ]
  },
  {
   "cell_type": "code",
   "execution_count": 11,
   "metadata": {},
   "outputs": [],
   "source": [
    "# Import the data\n",
    "import pandas as pd\n",
    "\n",
    "train = pd.read_csv(\"/home/flavien/Documents/these/mf/Boussole/Output/Data/Compiled/train_cluster_lab.csv\")\n",
    "test = pd.read_csv(\"/home/flavien/Documents/these/mf/Boussole/Output/Data/Compiled/test_cluster_insitu.csv\")\n",
    "\n",
    "train = train.dropna()\n",
    "\n",
    "train_desc = train[[\"f440_f470\", \"f532_f470\"]]\n",
    "test_desc = test[[\"f440_f470\", \"f532_f470\"]]\n",
    "\n",
    "target_train = train[\"cluster\"]\n",
    "target_test = test[\"cluster\"]"
   ]
  },
  {
   "cell_type": "code",
   "execution_count": 18,
   "metadata": {},
   "outputs": [],
   "source": [
    "# Create a SVC model\n",
    "\n",
    "from sklearn.pipeline import make_pipeline\n",
    "from sklearn.preprocessing import StandardScaler\n",
    "from sklearn.svm import SVC\n",
    "\n",
    "#Create our SVC model\n",
    "svc_model = make_pipeline(StandardScaler(), SVC(kernel=\"rbf\", gamma=5, C = 1))"
   ]
  },
  {
   "cell_type": "code",
   "execution_count": 19,
   "metadata": {},
   "outputs": [
    {
     "name": "stdout",
     "output_type": "stream",
     "text": [
      "Accuracy on test set: 0.426\n"
     ]
    }
   ],
   "source": [
    "# train it\n",
    "svc_model.fit(train_desc, target_train)\n",
    "\n",
    "#test it\n",
    "\n",
    "accuracy = svc_model.score(test_desc, target_test)\n",
    "print(f\"Accuracy on test set: {accuracy:.3f}\")"
   ]
  }
 ],
 "metadata": {
  "interpreter": {
   "hash": "900cce5638c0788e80092ea4a2dafab0e880e3c6ce7a8be5f4cf87f92e22f016"
  },
  "kernelspec": {
   "display_name": "Python 3.6.9 ('mfenv': venv)",
   "language": "python",
   "name": "python3"
  },
  "language_info": {
   "codemirror_mode": {
    "name": "ipython",
    "version": 3
   },
   "file_extension": ".py",
   "mimetype": "text/x-python",
   "name": "python",
   "nbconvert_exporter": "python",
   "pygments_lexer": "ipython3",
   "version": "3.6.9"
  },
  "orig_nbformat": 4
 },
 "nbformat": 4,
 "nbformat_minor": 2
}
