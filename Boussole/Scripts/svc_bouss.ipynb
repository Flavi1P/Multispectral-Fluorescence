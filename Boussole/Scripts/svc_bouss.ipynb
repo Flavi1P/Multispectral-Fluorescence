{
 "cells": [
  {
   "cell_type": "markdown",
   "metadata": {},
   "source": [
    "# SVC with in-situ data\n",
    "<br/>\n",
    "We will use here the same method as in \"svc_lab\" notebook. The model will be train to predict the clusters defined in the \"hplc_cluster\" notebook. <br/> The dataset is  hplc_mfclusterised."
   ]
  },
  {
   "cell_type": "code",
   "execution_count": 1,
   "metadata": {},
   "outputs": [
    {
     "name": "stdout",
     "output_type": "stream",
     "text": [
      "The original data has 90 samples.\n"
     ]
    }
   ],
   "source": [
    "import pandas as pd \n",
    "\n",
    "data = pd.read_csv(\"C:\\\\Users\\petit\\Documents\\These\\Multispectral-Fluorescence\\Boussole\\Output\\Data\\Compiled\\hplc_mf_clusterised_cp.csv\")\n",
    "\n",
    "print(\n",
    "    f\"The original data has \"\n",
    "    f\"{len(data)} samples.\")"
   ]
  },
  {
   "cell_type": "markdown",
   "metadata": {},
   "source": [
    "Select the descriptors (f440/f470 and f532/f47) and the target variable (the cluster)."
   ]
  },
  {
   "cell_type": "code",
   "execution_count": 2,
   "metadata": {},
   "outputs": [],
   "source": [
    "descriptors = data[[\"f440_f470\", \"f532_f470\"]]\n",
    "target = data[\"cluster\"]"
   ]
  },
  {
   "cell_type": "markdown",
   "metadata": {},
   "source": [
    "Let's check the distribution of the samples in the f440_f470; f532_f470 space."
   ]
  },
  {
   "cell_type": "code",
   "execution_count": 3,
   "metadata": {},
   "outputs": [],
   "source": [
    "#use the bbp to erase the chla effect\n",
    "data = data.assign(f440_bbp = lambda x: x['fluo_440']/x['bb700'],\n",
    "                f470_bbp= lambda x: x['fluo_470']/x['bb700'],\n",
    "                f532_bbp = lambda x: x['fluo_532']/x['bb700'],\n",
    "                f532_cp = lambda x: x['fluo_532']/x['cp'],\n",
    "                f440_cp = lambda x: x['fluo_440']/x['cp'],\n",
    "                f470_cp = lambda x: x['fluo_470']/x['cp'],\n",
    "                f440b_f470b = lambda x: x['f440_bbp']/x['f470_bbp'],\n",
    "                f532b_f470b = lambda x: x['f532_bbp']/x['f470_bbp'],\n",
    "                f532_f440 = lambda x: x['fluo_532']/x['fluo_440'],\n",
    "                bbp_cp = lambda x: x['bb700']/x['cp'])"
   ]
  },
  {
   "cell_type": "code",
   "execution_count": 4,
   "metadata": {},
   "outputs": [],
   "source": [
    "from imblearn.over_sampling import RandomOverSampler\n",
    "from imblearn.over_sampling import SMOTE\n",
    "from collections import Counter\n",
    "\n",
    "full_descriptors = data[[\"f440_f470\", \"f532_f470\", \"bbp_cp\", \"f440_bbp\", \"f470_bbp\", \"f532_bbp\", \"f440_cp\", \"f470_cp\"]]\n",
    "\n",
    "ros = RandomOverSampler()\n",
    "#X_resampled, y_resampled = ros.fit_resample(new_descriptors, target)\n",
    "X_full, y_full = SMOTE().fit_resample(full_descriptors, target)\n"
   ]
  },
  {
   "cell_type": "code",
   "execution_count": 5,
   "metadata": {},
   "outputs": [],
   "source": [
    "from sklearn.ensemble import GradientBoostingClassifier\n",
    "from sklearn.model_selection import cross_validate\n",
    "\n",
    "gradient_boosting = GradientBoostingClassifier()"
   ]
  },
  {
   "cell_type": "code",
   "execution_count": 7,
   "metadata": {},
   "outputs": [
    {
     "ename": "KeyboardInterrupt",
     "evalue": "",
     "output_type": "error",
     "traceback": [
      "\u001b[1;31m---------------------------------------------------------------------------\u001b[0m",
      "\u001b[1;31mKeyboardInterrupt\u001b[0m                         Traceback (most recent call last)",
      "\u001b[1;32mc:\\Users\\petit\\Documents\\These\\Multispectral-Fluorescence\\Boussole\\Scripts\\svc_bouss.ipynb Cell 14'\u001b[0m in \u001b[0;36m<cell line: 25>\u001b[1;34m()\u001b[0m\n\u001b[0;32m     <a href='vscode-notebook-cell:/c%3A/Users/petit/Documents/These/Multispectral-Fluorescence/Boussole/Scripts/svc_bouss.ipynb#ch0000013?line=17'>18</a>\u001b[0m cv \u001b[39m=\u001b[39m StratifiedShuffleSplit(n_splits\u001b[39m=\u001b[39m\u001b[39m10\u001b[39m)\n\u001b[0;32m     <a href='vscode-notebook-cell:/c%3A/Users/petit/Documents/These/Multispectral-Fluorescence/Boussole/Scripts/svc_bouss.ipynb#ch0000013?line=19'>20</a>\u001b[0m grid_search_hgb \u001b[39m=\u001b[39m GridSearchCV(estimator \u001b[39m=\u001b[39m gradient_boosting,\n\u001b[0;32m     <a href='vscode-notebook-cell:/c%3A/Users/petit/Documents/These/Multispectral-Fluorescence/Boussole/Scripts/svc_bouss.ipynb#ch0000013?line=20'>21</a>\u001b[0m                            param_grid \u001b[39m=\u001b[39m parameters_hgb,\n\u001b[0;32m     <a href='vscode-notebook-cell:/c%3A/Users/petit/Documents/These/Multispectral-Fluorescence/Boussole/Scripts/svc_bouss.ipynb#ch0000013?line=21'>22</a>\u001b[0m                            scoring \u001b[39m=\u001b[39m \u001b[39m'\u001b[39m\u001b[39maccuracy\u001b[39m\u001b[39m'\u001b[39m,\n\u001b[0;32m     <a href='vscode-notebook-cell:/c%3A/Users/petit/Documents/These/Multispectral-Fluorescence/Boussole/Scripts/svc_bouss.ipynb#ch0000013?line=22'>23</a>\u001b[0m                            cv \u001b[39m=\u001b[39m cv,\n\u001b[0;32m     <a href='vscode-notebook-cell:/c%3A/Users/petit/Documents/These/Multispectral-Fluorescence/Boussole/Scripts/svc_bouss.ipynb#ch0000013?line=23'>24</a>\u001b[0m                            n_jobs \u001b[39m=\u001b[39m \u001b[39m2\u001b[39m)\n\u001b[1;32m---> <a href='vscode-notebook-cell:/c%3A/Users/petit/Documents/These/Multispectral-Fluorescence/Boussole/Scripts/svc_bouss.ipynb#ch0000013?line=24'>25</a>\u001b[0m grid_search_hgb\u001b[39m.\u001b[39;49mfit(X_full, y_full)\n\u001b[0;32m     <a href='vscode-notebook-cell:/c%3A/Users/petit/Documents/These/Multispectral-Fluorescence/Boussole/Scripts/svc_bouss.ipynb#ch0000013?line=25'>26</a>\u001b[0m best_accuracy_hgb \u001b[39m=\u001b[39m grid_search_hgb\u001b[39m.\u001b[39mbest_score_\n\u001b[0;32m     <a href='vscode-notebook-cell:/c%3A/Users/petit/Documents/These/Multispectral-Fluorescence/Boussole/Scripts/svc_bouss.ipynb#ch0000013?line=26'>27</a>\u001b[0m best_paramaeter_hgb \u001b[39m=\u001b[39m grid_search_hgb\u001b[39m.\u001b[39mbest_params_\n",
      "File \u001b[1;32mc:\\Users\\petit\\AppData\\Local\\Programs\\Python\\Python310\\lib\\site-packages\\sklearn\\model_selection\\_search.py:875\u001b[0m, in \u001b[0;36mBaseSearchCV.fit\u001b[1;34m(self, X, y, groups, **fit_params)\u001b[0m\n\u001b[0;32m    869\u001b[0m     results \u001b[39m=\u001b[39m \u001b[39mself\u001b[39m\u001b[39m.\u001b[39m_format_results(\n\u001b[0;32m    870\u001b[0m         all_candidate_params, n_splits, all_out, all_more_results\n\u001b[0;32m    871\u001b[0m     )\n\u001b[0;32m    873\u001b[0m     \u001b[39mreturn\u001b[39;00m results\n\u001b[1;32m--> 875\u001b[0m \u001b[39mself\u001b[39;49m\u001b[39m.\u001b[39;49m_run_search(evaluate_candidates)\n\u001b[0;32m    877\u001b[0m \u001b[39m# multimetric is determined here because in the case of a callable\u001b[39;00m\n\u001b[0;32m    878\u001b[0m \u001b[39m# self.scoring the return type is only known after calling\u001b[39;00m\n\u001b[0;32m    879\u001b[0m first_test_score \u001b[39m=\u001b[39m all_out[\u001b[39m0\u001b[39m][\u001b[39m\"\u001b[39m\u001b[39mtest_scores\u001b[39m\u001b[39m\"\u001b[39m]\n",
      "File \u001b[1;32mc:\\Users\\petit\\AppData\\Local\\Programs\\Python\\Python310\\lib\\site-packages\\sklearn\\model_selection\\_search.py:1375\u001b[0m, in \u001b[0;36mGridSearchCV._run_search\u001b[1;34m(self, evaluate_candidates)\u001b[0m\n\u001b[0;32m   1373\u001b[0m \u001b[39mdef\u001b[39;00m \u001b[39m_run_search\u001b[39m(\u001b[39mself\u001b[39m, evaluate_candidates):\n\u001b[0;32m   1374\u001b[0m     \u001b[39m\"\"\"Search all candidates in param_grid\"\"\"\u001b[39;00m\n\u001b[1;32m-> 1375\u001b[0m     evaluate_candidates(ParameterGrid(\u001b[39mself\u001b[39;49m\u001b[39m.\u001b[39;49mparam_grid))\n",
      "File \u001b[1;32mc:\\Users\\petit\\AppData\\Local\\Programs\\Python\\Python310\\lib\\site-packages\\sklearn\\model_selection\\_search.py:822\u001b[0m, in \u001b[0;36mBaseSearchCV.fit.<locals>.evaluate_candidates\u001b[1;34m(candidate_params, cv, more_results)\u001b[0m\n\u001b[0;32m    814\u001b[0m \u001b[39mif\u001b[39;00m \u001b[39mself\u001b[39m\u001b[39m.\u001b[39mverbose \u001b[39m>\u001b[39m \u001b[39m0\u001b[39m:\n\u001b[0;32m    815\u001b[0m     \u001b[39mprint\u001b[39m(\n\u001b[0;32m    816\u001b[0m         \u001b[39m\"\u001b[39m\u001b[39mFitting \u001b[39m\u001b[39m{0}\u001b[39;00m\u001b[39m folds for each of \u001b[39m\u001b[39m{1}\u001b[39;00m\u001b[39m candidates,\u001b[39m\u001b[39m\"\u001b[39m\n\u001b[0;32m    817\u001b[0m         \u001b[39m\"\u001b[39m\u001b[39m totalling \u001b[39m\u001b[39m{2}\u001b[39;00m\u001b[39m fits\u001b[39m\u001b[39m\"\u001b[39m\u001b[39m.\u001b[39mformat(\n\u001b[0;32m    818\u001b[0m             n_splits, n_candidates, n_candidates \u001b[39m*\u001b[39m n_splits\n\u001b[0;32m    819\u001b[0m         )\n\u001b[0;32m    820\u001b[0m     )\n\u001b[1;32m--> 822\u001b[0m out \u001b[39m=\u001b[39m parallel(\n\u001b[0;32m    823\u001b[0m     delayed(_fit_and_score)(\n\u001b[0;32m    824\u001b[0m         clone(base_estimator),\n\u001b[0;32m    825\u001b[0m         X,\n\u001b[0;32m    826\u001b[0m         y,\n\u001b[0;32m    827\u001b[0m         train\u001b[39m=\u001b[39;49mtrain,\n\u001b[0;32m    828\u001b[0m         test\u001b[39m=\u001b[39;49mtest,\n\u001b[0;32m    829\u001b[0m         parameters\u001b[39m=\u001b[39;49mparameters,\n\u001b[0;32m    830\u001b[0m         split_progress\u001b[39m=\u001b[39;49m(split_idx, n_splits),\n\u001b[0;32m    831\u001b[0m         candidate_progress\u001b[39m=\u001b[39;49m(cand_idx, n_candidates),\n\u001b[0;32m    832\u001b[0m         \u001b[39m*\u001b[39;49m\u001b[39m*\u001b[39;49mfit_and_score_kwargs,\n\u001b[0;32m    833\u001b[0m     )\n\u001b[0;32m    834\u001b[0m     \u001b[39mfor\u001b[39;49;00m (cand_idx, parameters), (split_idx, (train, test)) \u001b[39min\u001b[39;49;00m product(\n\u001b[0;32m    835\u001b[0m         \u001b[39menumerate\u001b[39;49m(candidate_params), \u001b[39menumerate\u001b[39;49m(cv\u001b[39m.\u001b[39;49msplit(X, y, groups))\n\u001b[0;32m    836\u001b[0m     )\n\u001b[0;32m    837\u001b[0m )\n\u001b[0;32m    839\u001b[0m \u001b[39mif\u001b[39;00m \u001b[39mlen\u001b[39m(out) \u001b[39m<\u001b[39m \u001b[39m1\u001b[39m:\n\u001b[0;32m    840\u001b[0m     \u001b[39mraise\u001b[39;00m \u001b[39mValueError\u001b[39;00m(\n\u001b[0;32m    841\u001b[0m         \u001b[39m\"\u001b[39m\u001b[39mNo fits were performed. \u001b[39m\u001b[39m\"\u001b[39m\n\u001b[0;32m    842\u001b[0m         \u001b[39m\"\u001b[39m\u001b[39mWas the CV iterator empty? \u001b[39m\u001b[39m\"\u001b[39m\n\u001b[0;32m    843\u001b[0m         \u001b[39m\"\u001b[39m\u001b[39mWere there no candidates?\u001b[39m\u001b[39m\"\u001b[39m\n\u001b[0;32m    844\u001b[0m     )\n",
      "File \u001b[1;32mc:\\Users\\petit\\AppData\\Local\\Programs\\Python\\Python310\\lib\\site-packages\\joblib\\parallel.py:1056\u001b[0m, in \u001b[0;36mParallel.__call__\u001b[1;34m(self, iterable)\u001b[0m\n\u001b[0;32m   1053\u001b[0m     \u001b[39mself\u001b[39m\u001b[39m.\u001b[39m_iterating \u001b[39m=\u001b[39m \u001b[39mFalse\u001b[39;00m\n\u001b[0;32m   1055\u001b[0m \u001b[39mwith\u001b[39;00m \u001b[39mself\u001b[39m\u001b[39m.\u001b[39m_backend\u001b[39m.\u001b[39mretrieval_context():\n\u001b[1;32m-> 1056\u001b[0m     \u001b[39mself\u001b[39;49m\u001b[39m.\u001b[39;49mretrieve()\n\u001b[0;32m   1057\u001b[0m \u001b[39m# Make sure that we get a last message telling us we are done\u001b[39;00m\n\u001b[0;32m   1058\u001b[0m elapsed_time \u001b[39m=\u001b[39m time\u001b[39m.\u001b[39mtime() \u001b[39m-\u001b[39m \u001b[39mself\u001b[39m\u001b[39m.\u001b[39m_start_time\n",
      "File \u001b[1;32mc:\\Users\\petit\\AppData\\Local\\Programs\\Python\\Python310\\lib\\site-packages\\joblib\\parallel.py:935\u001b[0m, in \u001b[0;36mParallel.retrieve\u001b[1;34m(self)\u001b[0m\n\u001b[0;32m    933\u001b[0m \u001b[39mtry\u001b[39;00m:\n\u001b[0;32m    934\u001b[0m     \u001b[39mif\u001b[39;00m \u001b[39mgetattr\u001b[39m(\u001b[39mself\u001b[39m\u001b[39m.\u001b[39m_backend, \u001b[39m'\u001b[39m\u001b[39msupports_timeout\u001b[39m\u001b[39m'\u001b[39m, \u001b[39mFalse\u001b[39;00m):\n\u001b[1;32m--> 935\u001b[0m         \u001b[39mself\u001b[39m\u001b[39m.\u001b[39m_output\u001b[39m.\u001b[39mextend(job\u001b[39m.\u001b[39;49mget(timeout\u001b[39m=\u001b[39;49m\u001b[39mself\u001b[39;49m\u001b[39m.\u001b[39;49mtimeout))\n\u001b[0;32m    936\u001b[0m     \u001b[39melse\u001b[39;00m:\n\u001b[0;32m    937\u001b[0m         \u001b[39mself\u001b[39m\u001b[39m.\u001b[39m_output\u001b[39m.\u001b[39mextend(job\u001b[39m.\u001b[39mget())\n",
      "File \u001b[1;32mc:\\Users\\petit\\AppData\\Local\\Programs\\Python\\Python310\\lib\\site-packages\\joblib\\_parallel_backends.py:542\u001b[0m, in \u001b[0;36mLokyBackend.wrap_future_result\u001b[1;34m(future, timeout)\u001b[0m\n\u001b[0;32m    539\u001b[0m \u001b[39m\"\"\"Wrapper for Future.result to implement the same behaviour as\u001b[39;00m\n\u001b[0;32m    540\u001b[0m \u001b[39mAsyncResults.get from multiprocessing.\"\"\"\u001b[39;00m\n\u001b[0;32m    541\u001b[0m \u001b[39mtry\u001b[39;00m:\n\u001b[1;32m--> 542\u001b[0m     \u001b[39mreturn\u001b[39;00m future\u001b[39m.\u001b[39;49mresult(timeout\u001b[39m=\u001b[39;49mtimeout)\n\u001b[0;32m    543\u001b[0m \u001b[39mexcept\u001b[39;00m CfTimeoutError \u001b[39mas\u001b[39;00m e:\n\u001b[0;32m    544\u001b[0m     \u001b[39mraise\u001b[39;00m \u001b[39mTimeoutError\u001b[39;00m \u001b[39mfrom\u001b[39;00m \u001b[39me\u001b[39;00m\n",
      "File \u001b[1;32mc:\\Users\\petit\\AppData\\Local\\Programs\\Python\\Python310\\lib\\concurrent\\futures\\_base.py:441\u001b[0m, in \u001b[0;36mFuture.result\u001b[1;34m(self, timeout)\u001b[0m\n\u001b[0;32m    438\u001b[0m \u001b[39melif\u001b[39;00m \u001b[39mself\u001b[39m\u001b[39m.\u001b[39m_state \u001b[39m==\u001b[39m FINISHED:\n\u001b[0;32m    439\u001b[0m     \u001b[39mreturn\u001b[39;00m \u001b[39mself\u001b[39m\u001b[39m.\u001b[39m__get_result()\n\u001b[1;32m--> 441\u001b[0m \u001b[39mself\u001b[39;49m\u001b[39m.\u001b[39;49m_condition\u001b[39m.\u001b[39;49mwait(timeout)\n\u001b[0;32m    443\u001b[0m \u001b[39mif\u001b[39;00m \u001b[39mself\u001b[39m\u001b[39m.\u001b[39m_state \u001b[39min\u001b[39;00m [CANCELLED, CANCELLED_AND_NOTIFIED]:\n\u001b[0;32m    444\u001b[0m     \u001b[39mraise\u001b[39;00m CancelledError()\n",
      "File \u001b[1;32mc:\\Users\\petit\\AppData\\Local\\Programs\\Python\\Python310\\lib\\threading.py:320\u001b[0m, in \u001b[0;36mCondition.wait\u001b[1;34m(self, timeout)\u001b[0m\n\u001b[0;32m    318\u001b[0m \u001b[39mtry\u001b[39;00m:    \u001b[39m# restore state no matter what (e.g., KeyboardInterrupt)\u001b[39;00m\n\u001b[0;32m    319\u001b[0m     \u001b[39mif\u001b[39;00m timeout \u001b[39mis\u001b[39;00m \u001b[39mNone\u001b[39;00m:\n\u001b[1;32m--> 320\u001b[0m         waiter\u001b[39m.\u001b[39;49macquire()\n\u001b[0;32m    321\u001b[0m         gotit \u001b[39m=\u001b[39m \u001b[39mTrue\u001b[39;00m\n\u001b[0;32m    322\u001b[0m     \u001b[39melse\u001b[39;00m:\n",
      "\u001b[1;31mKeyboardInterrupt\u001b[0m: "
     ]
    }
   ],
   "source": [
    "from sklearn.model_selection import GridSearchCV\n",
    "from sklearn.model_selection import StratifiedKFold\n",
    "from sklearn.model_selection import StratifiedShuffleSplit\n",
    "import numpy as np\n",
    "\n",
    "\n",
    "parameters_hgb = {\n",
    "    \"loss\":[\"deviance\"],\n",
    "    \"learning_rate\": [0.01, 0.025, 0.05, 0.075, 0.1],\n",
    "    \"min_samples_leaf\": np.linspace(0.1, 0.5, 10),\n",
    "    \"max_features\":[\"log2\",\"sqrt\", None],\n",
    "    \"criterion\": [\"friedman_mse\"],\n",
    "    \"max_depth\": [2, 4, 6, 8],\n",
    "    \"subsample\":[0.5, 0.618, 0.8, 0.85, 0.9],\n",
    "    \"n_estimators\":[400, 500, 750, 900]\n",
    "    }\n",
    "\n",
    "cv = StratifiedShuffleSplit(n_splits=10)\n",
    "\n",
    "grid_search_hgb = GridSearchCV(estimator = gradient_boosting,\n",
    "                           param_grid = parameters_hgb,\n",
    "                           scoring = 'accuracy',\n",
    "                           cv = cv,\n",
    "                           n_jobs = 2)\n",
    "grid_search_hgb.fit(X_full, y_full)\n",
    "best_accuracy_hgb = grid_search_hgb.best_score_\n",
    "best_paramaeter_hgb = grid_search_hgb.best_params_\n",
    "print(\"Best Accuracy of HGB: {:.2f} %\".format(best_accuracy_hgb.mean()*100))\n",
    "print(\"Best Parameter of HGB:\", best_paramaeter_hgb) "
   ]
  },
  {
   "cell_type": "code",
   "execution_count": 6,
   "metadata": {},
   "outputs": [],
   "source": [
    "from sklearn.ensemble import GradientBoostingClassifier\n",
    "from sklearn.model_selection import cross_validate\n",
    "\n",
    "gradient_boosting = GradientBoostingClassifier()\n",
    "\n",
    "best_params =  {'criterion': 'friedman_mse',\n",
    "    'learning_rate': 0.05,\n",
    "    'loss': 'log_loss',\n",
    "    'max_depth': 8,\n",
    "    'max_features': None,\n",
    "    'min_samples_leaf': 0.188,\n",
    "    'n_estimators': 400,\n",
    "    'subsample': 0.85}\n",
    "new_hgb = gradient_boosting.set_params(**best_params)\n"
   ]
  },
  {
   "cell_type": "code",
   "execution_count": 7,
   "metadata": {},
   "outputs": [
    {
     "data": {
      "text/html": [
       "<style>#sk-container-id-1 {color: black;background-color: white;}#sk-container-id-1 pre{padding: 0;}#sk-container-id-1 div.sk-toggleable {background-color: white;}#sk-container-id-1 label.sk-toggleable__label {cursor: pointer;display: block;width: 100%;margin-bottom: 0;padding: 0.3em;box-sizing: border-box;text-align: center;}#sk-container-id-1 label.sk-toggleable__label-arrow:before {content: \"▸\";float: left;margin-right: 0.25em;color: #696969;}#sk-container-id-1 label.sk-toggleable__label-arrow:hover:before {color: black;}#sk-container-id-1 div.sk-estimator:hover label.sk-toggleable__label-arrow:before {color: black;}#sk-container-id-1 div.sk-toggleable__content {max-height: 0;max-width: 0;overflow: hidden;text-align: left;background-color: #f0f8ff;}#sk-container-id-1 div.sk-toggleable__content pre {margin: 0.2em;color: black;border-radius: 0.25em;background-color: #f0f8ff;}#sk-container-id-1 input.sk-toggleable__control:checked~div.sk-toggleable__content {max-height: 200px;max-width: 100%;overflow: auto;}#sk-container-id-1 input.sk-toggleable__control:checked~label.sk-toggleable__label-arrow:before {content: \"▾\";}#sk-container-id-1 div.sk-estimator input.sk-toggleable__control:checked~label.sk-toggleable__label {background-color: #d4ebff;}#sk-container-id-1 div.sk-label input.sk-toggleable__control:checked~label.sk-toggleable__label {background-color: #d4ebff;}#sk-container-id-1 input.sk-hidden--visually {border: 0;clip: rect(1px 1px 1px 1px);clip: rect(1px, 1px, 1px, 1px);height: 1px;margin: -1px;overflow: hidden;padding: 0;position: absolute;width: 1px;}#sk-container-id-1 div.sk-estimator {font-family: monospace;background-color: #f0f8ff;border: 1px dotted black;border-radius: 0.25em;box-sizing: border-box;margin-bottom: 0.5em;}#sk-container-id-1 div.sk-estimator:hover {background-color: #d4ebff;}#sk-container-id-1 div.sk-parallel-item::after {content: \"\";width: 100%;border-bottom: 1px solid gray;flex-grow: 1;}#sk-container-id-1 div.sk-label:hover label.sk-toggleable__label {background-color: #d4ebff;}#sk-container-id-1 div.sk-serial::before {content: \"\";position: absolute;border-left: 1px solid gray;box-sizing: border-box;top: 0;bottom: 0;left: 50%;z-index: 0;}#sk-container-id-1 div.sk-serial {display: flex;flex-direction: column;align-items: center;background-color: white;padding-right: 0.2em;padding-left: 0.2em;position: relative;}#sk-container-id-1 div.sk-item {position: relative;z-index: 1;}#sk-container-id-1 div.sk-parallel {display: flex;align-items: stretch;justify-content: center;background-color: white;position: relative;}#sk-container-id-1 div.sk-item::before, #sk-container-id-1 div.sk-parallel-item::before {content: \"\";position: absolute;border-left: 1px solid gray;box-sizing: border-box;top: 0;bottom: 0;left: 50%;z-index: -1;}#sk-container-id-1 div.sk-parallel-item {display: flex;flex-direction: column;z-index: 1;position: relative;background-color: white;}#sk-container-id-1 div.sk-parallel-item:first-child::after {align-self: flex-end;width: 50%;}#sk-container-id-1 div.sk-parallel-item:last-child::after {align-self: flex-start;width: 50%;}#sk-container-id-1 div.sk-parallel-item:only-child::after {width: 0;}#sk-container-id-1 div.sk-dashed-wrapped {border: 1px dashed gray;margin: 0 0.4em 0.5em 0.4em;box-sizing: border-box;padding-bottom: 0.4em;background-color: white;}#sk-container-id-1 div.sk-label label {font-family: monospace;font-weight: bold;display: inline-block;line-height: 1.2em;}#sk-container-id-1 div.sk-label-container {text-align: center;}#sk-container-id-1 div.sk-container {/* jupyter's `normalize.less` sets `[hidden] { display: none; }` but bootstrap.min.css set `[hidden] { display: none !important; }` so we also need the `!important` here to be able to override the default hidden behavior on the sphinx rendered scikit-learn.org. See: https://github.com/scikit-learn/scikit-learn/issues/21755 */display: inline-block !important;position: relative;}#sk-container-id-1 div.sk-text-repr-fallback {display: none;}</style><div id=\"sk-container-id-1\" class=\"sk-top-container\"><div class=\"sk-text-repr-fallback\"><pre>GradientBoostingClassifier(learning_rate=0.05, max_depth=8,\n",
       "                           min_samples_leaf=0.188, n_estimators=400,\n",
       "                           subsample=0.85)</pre><b>In a Jupyter environment, please rerun this cell to show the HTML representation or trust the notebook. <br />On GitHub, the HTML representation is unable to render, please try loading this page with nbviewer.org.</b></div><div class=\"sk-container\" hidden><div class=\"sk-item\"><div class=\"sk-estimator sk-toggleable\"><input class=\"sk-toggleable__control sk-hidden--visually\" id=\"sk-estimator-id-1\" type=\"checkbox\" checked><label for=\"sk-estimator-id-1\" class=\"sk-toggleable__label sk-toggleable__label-arrow\">GradientBoostingClassifier</label><div class=\"sk-toggleable__content\"><pre>GradientBoostingClassifier(learning_rate=0.05, max_depth=8,\n",
       "                           min_samples_leaf=0.188, n_estimators=400,\n",
       "                           subsample=0.85)</pre></div></div></div></div></div>"
      ],
      "text/plain": [
       "GradientBoostingClassifier(learning_rate=0.05, max_depth=8,\n",
       "                           min_samples_leaf=0.188, n_estimators=400,\n",
       "                           subsample=0.85)"
      ]
     },
     "execution_count": 7,
     "metadata": {},
     "output_type": "execute_result"
    }
   ],
   "source": [
    "from sklearn.feature_selection import SelectFromModel\n",
    "gradient_boosting.fit(X_full, y_full)\n"
   ]
  },
  {
   "cell_type": "code",
   "execution_count": 8,
   "metadata": {},
   "outputs": [
    {
     "data": {
      "image/png": "[encoded data removed]",
      "text/plain": [
       "<Figure size 432x288 with 1 Axes>"
      ]
     },
     "metadata": {
      "needs_background": "light"
     },
     "output_type": "display_data"
    }
   ],
   "source": [
    "import matplotlib.pyplot as plt\n",
    "model = SelectFromModel(gradient_boosting, prefit=True)\n",
    "importances = gradient_boosting.feature_importances_\n",
    "\n",
    "feature_names = [\"f440_f470\", \"f532_f470\", \"bbp_cp\", \"f440_bbp\", \"f470_bbp\", \"f532_bbp\", \"f440_cp\", \"f470_cp\"]\n",
    "\n",
    "forest_importances = pd.Series(importances, index=feature_names)\n",
    "\n",
    "fig, ax = plt.subplots()\n",
    "forest_importances.plot.bar(ax = ax)\n",
    "ax.axhline(y=0.05,linewidth= 3, color='k', linestyle= 'dotted')\n",
    "ax.set_title(\"Feature importances using MDI\")\n",
    "ax.set_ylabel(\"Mean decrease in impurity\")\n",
    "fig.tight_layout()"
   ]
  },
  {
   "cell_type": "code",
   "execution_count": 9,
   "metadata": {},
   "outputs": [
    {
     "name": "stdout",
     "output_type": "stream",
     "text": [
      "here is the significant parameters : Index(['f440_f470', 'f532_f470', 'bbp_cp', 'f440_bbp', 'f470_bbp', 'f532_bbp',\n",
      "       'f440_cp', 'f470_cp'],\n",
      "      dtype='object')\n",
      "[(0, 32), (1, 32), (2, 32), (3, 32)]\n"
     ]
    }
   ],
   "source": [
    "test = forest_importances[forest_importances > 0.05]\n",
    "\n",
    "print(\"here is the significant parameters :\", test.index)\n",
    "\n",
    "new_descriptors = data[[\"f440_f470\", \"f532_f470\", \"bbp_cp\", \"f440_bbp\", \"f470_bbp\", \"f532_bbp\", \"f440_cp\", \"f470_cp\"]]\n",
    "no_cp = data[[\"f440_f470\", \"f532_f470\", \"f440_bbp\", \"f470_bbp\", \"f532_bbp\"]]\n",
    "no_cp_no_532 = data[[\"f440_f470\", \"f440_bbp\", \"f470_bbp\"]]\n",
    "no_bbp_no_cp_no_532 = data[[\"f440_f470\"]]\n",
    "\n",
    "\n",
    "ros = RandomOverSampler()\n",
    "#X_resampled, y_resampled = ros.fit_resample(new_descriptors, target)\n",
    "X_resampled, y_resampled = SMOTE().fit_resample(new_descriptors, target)\n",
    "X_no_cp, y_resampled = SMOTE().fit_resample(no_cp, target)\n",
    "X_no_cp_no_532, y_resampled = SMOTE().fit_resample(no_cp_no_532, target)\n",
    "X_no_bbp_no_cp_no_532, y_resampled = SMOTE().fit_resample(no_bbp_no_cp_no_532, target)\n",
    "\n",
    "print(sorted(Counter(y_resampled).items()))"
   ]
  },
  {
   "cell_type": "code",
   "execution_count": 47,
   "metadata": {},
   "outputs": [
    {
     "data": {
      "text/html": [
       "<div>\n",
       "<style scoped>\n",
       "    .dataframe tbody tr th:only-of-type {\n",
       "        vertical-align: middle;\n",
       "    }\n",
       "\n",
       "    .dataframe tbody tr th {\n",
       "        vertical-align: top;\n",
       "    }\n",
       "\n",
       "    .dataframe thead th {\n",
       "        text-align: right;\n",
       "    }\n",
       "</style>\n",
       "<table border=\"1\" class=\"dataframe\">\n",
       "  <thead>\n",
       "    <tr style=\"text-align: right;\">\n",
       "      <th></th>\n",
       "      <th>f440_f470</th>\n",
       "      <th>f532_f470</th>\n",
       "      <th>bbp_cp</th>\n",
       "      <th>f440_bbp</th>\n",
       "      <th>f470_bbp</th>\n",
       "      <th>f532_bbp</th>\n",
       "      <th>f440_cp</th>\n",
       "      <th>f470_cp</th>\n",
       "    </tr>\n",
       "  </thead>\n",
       "  <tbody>\n",
       "    <tr>\n",
       "      <th>count</th>\n",
       "      <td>104.000000</td>\n",
       "      <td>104.000000</td>\n",
       "      <td>104.000000</td>\n",
       "      <td>104.000000</td>\n",
       "      <td>104.000000</td>\n",
       "      <td>104.000000</td>\n",
       "      <td>104.000000</td>\n",
       "      <td>104.000000</td>\n",
       "    </tr>\n",
       "    <tr>\n",
       "      <th>mean</th>\n",
       "      <td>0.903732</td>\n",
       "      <td>0.620781</td>\n",
       "      <td>894.056029</td>\n",
       "      <td>0.735933</td>\n",
       "      <td>0.843611</td>\n",
       "      <td>0.449796</td>\n",
       "      <td>609.678925</td>\n",
       "      <td>685.213431</td>\n",
       "    </tr>\n",
       "    <tr>\n",
       "      <th>std</th>\n",
       "      <td>0.098443</td>\n",
       "      <td>0.254716</td>\n",
       "      <td>424.124236</td>\n",
       "      <td>0.284157</td>\n",
       "      <td>0.396299</td>\n",
       "      <td>0.159575</td>\n",
       "      <td>276.097476</td>\n",
       "      <td>314.400960</td>\n",
       "    </tr>\n",
       "    <tr>\n",
       "      <th>min</th>\n",
       "      <td>0.630975</td>\n",
       "      <td>0.194277</td>\n",
       "      <td>0.103601</td>\n",
       "      <td>0.369637</td>\n",
       "      <td>0.350715</td>\n",
       "      <td>0.303681</td>\n",
       "      <td>0.056000</td>\n",
       "      <td>0.053134</td>\n",
       "    </tr>\n",
       "    <tr>\n",
       "      <th>25%</th>\n",
       "      <td>0.821693</td>\n",
       "      <td>0.436891</td>\n",
       "      <td>640.557875</td>\n",
       "      <td>0.543288</td>\n",
       "      <td>0.578548</td>\n",
       "      <td>0.369175</td>\n",
       "      <td>457.643668</td>\n",
       "      <td>519.897844</td>\n",
       "    </tr>\n",
       "    <tr>\n",
       "      <th>50%</th>\n",
       "      <td>0.896006</td>\n",
       "      <td>0.593221</td>\n",
       "      <td>943.247361</td>\n",
       "      <td>0.639087</td>\n",
       "      <td>0.720413</td>\n",
       "      <td>0.405316</td>\n",
       "      <td>648.476853</td>\n",
       "      <td>745.882472</td>\n",
       "    </tr>\n",
       "    <tr>\n",
       "      <th>75%</th>\n",
       "      <td>0.963124</td>\n",
       "      <td>0.830359</td>\n",
       "      <td>1167.610935</td>\n",
       "      <td>0.821571</td>\n",
       "      <td>0.957216</td>\n",
       "      <td>0.468242</td>\n",
       "      <td>734.811347</td>\n",
       "      <td>862.091883</td>\n",
       "    </tr>\n",
       "    <tr>\n",
       "      <th>max</th>\n",
       "      <td>1.180952</td>\n",
       "      <td>1.100000</td>\n",
       "      <td>1983.087125</td>\n",
       "      <td>1.680333</td>\n",
       "      <td>2.225721</td>\n",
       "      <td>1.461390</td>\n",
       "      <td>1369.486398</td>\n",
       "      <td>1527.125120</td>\n",
       "    </tr>\n",
       "  </tbody>\n",
       "</table>\n",
       "</div>"
      ],
      "text/plain": [
       "        f440_f470   f532_f470       bbp_cp    f440_bbp    f470_bbp  \\\n",
       "count  104.000000  104.000000   104.000000  104.000000  104.000000   \n",
       "mean     0.903732    0.620781   894.056029    0.735933    0.843611   \n",
       "std      0.098443    0.254716   424.124236    0.284157    0.396299   \n",
       "min      0.630975    0.194277     0.103601    0.369637    0.350715   \n",
       "25%      0.821693    0.436891   640.557875    0.543288    0.578548   \n",
       "50%      0.896006    0.593221   943.247361    0.639087    0.720413   \n",
       "75%      0.963124    0.830359  1167.610935    0.821571    0.957216   \n",
       "max      1.180952    1.100000  1983.087125    1.680333    2.225721   \n",
       "\n",
       "         f532_bbp      f440_cp      f470_cp  \n",
       "count  104.000000   104.000000   104.000000  \n",
       "mean     0.449796   609.678925   685.213431  \n",
       "std      0.159575   276.097476   314.400960  \n",
       "min      0.303681     0.056000     0.053134  \n",
       "25%      0.369175   457.643668   519.897844  \n",
       "50%      0.405316   648.476853   745.882472  \n",
       "75%      0.468242   734.811347   862.091883  \n",
       "max      1.461390  1369.486398  1527.125120  "
      ]
     },
     "execution_count": 47,
     "metadata": {},
     "output_type": "execute_result"
    }
   ],
   "source": [
    "X_resampled.describe()"
   ]
  },
  {
   "cell_type": "code",
   "execution_count": 10,
   "metadata": {},
   "outputs": [],
   "source": [
    "from sklearn.model_selection import train_test_split\n",
    "X_train, X_test, y_train, y_test = train_test_split(X_resampled, y_resampled, test_size =0.3, stratify = y_resampled, random_state=0)\n",
    "X_train_no_cp, X_test_no_cp, y_train, y_test = train_test_split(X_no_cp, y_resampled, test_size =0.3, stratify = y_resampled, random_state=0)\n",
    "X_train_no_cp_no_532, X_test_no_cp_no_532, y_train, y_test = train_test_split(X_no_cp_no_532, y_resampled, test_size =0.3, stratify = y_resampled, random_state=0)\n",
    "X_train_no_bbp_no_cp_no_532, X_test_no_bbp_no_cp_no_532, y_train, y_test = train_test_split(X_no_bbp_no_cp_no_532, y_resampled, test_size =0.3, stratify = y_resampled, random_state=0)\n"
   ]
  },
  {
   "cell_type": "code",
   "execution_count": 11,
   "metadata": {},
   "outputs": [],
   "source": [
    "#histogram boosting gradient classifer\n",
    "\n",
    "new_hgb.fit(X_train,y_train)\n",
    "y_pred_hgb = new_hgb.predict(X_test)\n",
    "\n",
    "new_hgb.fit(X_train_no_cp,y_train)\n",
    "y_pred_no_cp = new_hgb.predict(X_test_no_cp)\n",
    "\n",
    "new_hgb.fit(X_train_no_cp_no_532,y_train)\n",
    "y_pred_no_cp_no_532 = new_hgb.predict(X_test_no_cp_no_532)\n",
    "\n",
    "new_hgb.fit(X_train_no_bbp_no_cp_no_532,y_train)\n",
    "y_pred_no_bbp_no_cp_no_532 = new_hgb.predict(X_test_no_bbp_no_cp_no_532)\n"
   ]
  },
  {
   "cell_type": "code",
   "execution_count": 12,
   "metadata": {},
   "outputs": [
    {
     "data": {
      "text/plain": [
       "Text(0.5, 1.0, 'Confusion Matrix of the Cross Validation using HGB')"
      ]
     },
     "execution_count": 12,
     "metadata": {},
     "output_type": "execute_result"
    },
    {
     "data": {
      "image/png": "[encoded data removed]",
      "text/plain": [
       "<Figure size 432x288 with 1 Axes>"
      ]
     },
     "metadata": {
      "needs_background": "light"
     },
     "output_type": "display_data"
    }
   ],
   "source": [
    "from sklearn.metrics import confusion_matrix, accuracy_score, roc_auc_score\n",
    "cm_hgb = confusion_matrix(y_test, y_pred_hgb)\n",
    "\n",
    "#Plot the confusion Matrix\n",
    "import matplotlib.pyplot as plt\n",
    "import seaborn as sns\n",
    "\n",
    "ax = sns.heatmap(cm_hgb, linewidths = 0.5, cmap = \"viridis\", annot = cm_hgb, cbar = False)\n",
    "ax.set_xticks([0.5, 1.5, 2.5])\n",
    "ax.set_yticks([0.5, 1.5, 2.5])\n",
    "ax.set_xticklabels(['1','2','3'])\n",
    "ax.set_yticklabels(['1', '2', '3'])\n",
    "plt.xlabel(\"Predicted\")\n",
    "plt.ylabel(\"Observed\")\n",
    "plt.title('Confusion Matrix of the Cross Validation using HGB', fontdict={'fontsize': 16, 'fontweight': 'medium'})"
   ]
  },
  {
   "cell_type": "code",
   "execution_count": 13,
   "metadata": {},
   "outputs": [
    {
     "name": "stdout",
     "output_type": "stream",
     "text": [
      "Precision: [0.55555556 0.66666667 0.63636364 0.61538462]\n",
      "Recall: [0.5        0.4        0.77777778 0.8       ]\n"
     ]
    }
   ],
   "source": [
    "from sklearn.metrics import precision_score\n",
    "from sklearn.metrics import recall_score\n",
    "# Model Precision: what percentage of positive tuples are labeled as such?\n",
    "print(\"Precision:\",precision_score(y_test, y_pred_hgb, average = None))\n",
    "\n",
    "# Model Recall: what percentage of positive tuples are labelled as such?\n",
    "print(\"Recall:\",recall_score(y_test, y_pred_hgb, average = None))"
   ]
  },
  {
   "cell_type": "code",
   "execution_count": 14,
   "metadata": {},
   "outputs": [
    {
     "data": {
      "text/plain": [
       "Text(0.5, 1.0, 'Confusion Matrix of the Cross Validation using HGB')"
      ]
     },
     "execution_count": 14,
     "metadata": {},
     "output_type": "execute_result"
    },
    {
     "data": {
      "image/png": "[encoded data removed]",
      "text/plain": [
       "<Figure size 432x288 with 1 Axes>"
      ]
     },
     "metadata": {
      "needs_background": "light"
     },
     "output_type": "display_data"
    }
   ],
   "source": [
    "from sklearn.metrics import confusion_matrix, accuracy_score, roc_auc_score\n",
    "cm_hgb = confusion_matrix(y_test, y_pred_no_cp)\n",
    "\n",
    "#Plot the confusion Matrix\n",
    "import matplotlib.pyplot as plt\n",
    "import seaborn as sns\n",
    "\n",
    "ax = sns.heatmap(cm_hgb, linewidths = 0.5, cmap = \"viridis\", annot = cm_hgb, cbar = False)\n",
    "ax.set_xticks([0.5, 1.5, 2.5])\n",
    "ax.set_yticks([0.5, 1.5, 2.5])\n",
    "ax.set_xticklabels(['1','2','3'])\n",
    "ax.set_yticklabels(['1', '2', '3'])\n",
    "plt.xlabel(\"Predicted\")\n",
    "plt.ylabel(\"Observed\")\n",
    "plt.title('Confusion Matrix of the Cross Validation using HGB', fontdict={'fontsize': 16, 'fontweight': 'medium'})"
   ]
  },
  {
   "cell_type": "code",
   "execution_count": 15,
   "metadata": {},
   "outputs": [
    {
     "data": {
      "text/plain": [
       "Text(0.5, 1.0, 'Confusion Matrix of the Cross Validation using HGB')"
      ]
     },
     "execution_count": 15,
     "metadata": {},
     "output_type": "execute_result"
    },
    {
     "data": {
      "image/png": "[encoded data removed]",
      "text/plain": [
       "<Figure size 432x288 with 1 Axes>"
      ]
     },
     "metadata": {
      "needs_background": "light"
     },
     "output_type": "display_data"
    }
   ],
   "source": [
    "from sklearn.metrics import confusion_matrix, accuracy_score, roc_auc_score\n",
    "cm_hgb = confusion_matrix(y_test, y_pred_no_cp_no_532)\n",
    "\n",
    "#Plot the confusion Matrix\n",
    "import matplotlib.pyplot as plt\n",
    "import seaborn as sns\n",
    "\n",
    "ax = sns.heatmap(cm_hgb, linewidths = 0.5, cmap = \"viridis\", annot = cm_hgb, cbar = False)\n",
    "ax.set_xticks([0.5, 1.5, 2.5])\n",
    "ax.set_yticks([0.5, 1.5, 2.5])\n",
    "ax.set_xticklabels(['1','2','3'])\n",
    "ax.set_yticklabels(['1', '2', '3'])\n",
    "plt.xlabel(\"Predicted\")\n",
    "plt.ylabel(\"Observed\")\n",
    "plt.title('Confusion Matrix of the Cross Validation using HGB', fontdict={'fontsize': 16, 'fontweight': 'medium'})"
   ]
  },
  {
   "cell_type": "code",
   "execution_count": 16,
   "metadata": {},
   "outputs": [
    {
     "data": {
      "text/plain": [
       "Text(0.5, 1.0, 'Confusion Matrix of the Cross Validation using HGB')"
      ]
     },
     "execution_count": 16,
     "metadata": {},
     "output_type": "execute_result"
    },
    {
     "data": {
      "image/png": "[encoded data removed]",
      "text/plain": [
       "<Figure size 432x288 with 1 Axes>"
      ]
     },
     "metadata": {
      "needs_background": "light"
     },
     "output_type": "display_data"
    }
   ],
   "source": [
    "from sklearn.metrics import confusion_matrix, accuracy_score, roc_auc_score\n",
    "cm_hgb = confusion_matrix(y_test, y_pred_no_bbp_no_cp_no_532)\n",
    "\n",
    "#Plot the confusion Matrix\n",
    "import matplotlib.pyplot as plt\n",
    "import seaborn as sns\n",
    "\n",
    "ax = sns.heatmap(cm_hgb, linewidths = 0.5, cmap = \"viridis\", annot = cm_hgb, cbar = False)\n",
    "ax.set_xticks([0.5, 1.5, 2.5])\n",
    "ax.set_yticks([0.5, 1.5, 2.5])\n",
    "ax.set_xticklabels(['1','2','3'])\n",
    "ax.set_yticklabels(['1', '2', '3'])\n",
    "plt.xlabel(\"Predicted\")\n",
    "plt.ylabel(\"Observed\")\n",
    "plt.title('Confusion Matrix of the Cross Validation using HGB', fontdict={'fontsize': 16, 'fontweight': 'medium'})"
   ]
  },
  {
   "cell_type": "code",
   "execution_count": 25,
   "metadata": {},
   "outputs": [
    {
     "name": "stdout",
     "output_type": "stream",
     "text": [
      "Accuracy with all sensors: 73.333 (10.917)\n",
      "Recall with all sensors: 74.615 (9.760)\n",
      "Accuracy without cp: 59.896 (16.122)\n",
      "Recall without cp: 59.231 (15.404)\n",
      "Accuracy without cp and F532: 50.521 (8.933)\n",
      "Recall without cp and F532: 50.769 (9.851)\n",
      "Accuracy without cp, bbp and F532: 27.187 (12.369)\n",
      "Recall without cp, bbp and F532: 26.923 (11.538)\n"
     ]
    }
   ],
   "source": [
    "from sklearn.model_selection import cross_val_score\n",
    "from sklearn.model_selection import StratifiedShuffleSplit\n",
    "cv = StratifiedShuffleSplit(n_splits=20, random_state=0)\n",
    "n_scores = cross_val_score(new_hgb, X_resampled, y_resampled, scoring = \"balanced_accuracy\", cv = cv, n_jobs = 2)\n",
    "rec_scores = cross_val_score(new_hgb, X_resampled.values, y_resampled.values, scoring = \"recall_weighted\", cv = cv, n_jobs = 2)\n",
    "scores_no_cp = cross_val_score(new_hgb, X_no_cp, y_resampled, scoring = \"balanced_accuracy\", cv = cv, n_jobs = 2)\n",
    "recall_no_cp = cross_val_score(new_hgb, X_no_cp, y_resampled, scoring = \"recall_weighted\", cv = cv, n_jobs = 2)\n",
    "scores_no_cp_no_532 = cross_val_score(new_hgb, X_no_cp_no_532, y_resampled, scoring = \"balanced_accuracy\", cv = cv, n_jobs = 2)\n",
    "recall_no_cp_no_532 = cross_val_score(new_hgb, X_no_cp_no_532, y_resampled, scoring = \"recall_weighted\", cv = cv, n_jobs = 2)\n",
    "scores_no_cp_no_bbp_no_532 = cross_val_score(new_hgb, X_no_bbp_no_cp_no_532 , y_resampled, scoring = \"balanced_accuracy\", cv = cv, n_jobs = 2)\n",
    "recall_no_cp_no_bbp_no_532 = cross_val_score(new_hgb, X_no_bbp_no_cp_no_532 , y_resampled, scoring = \"recall_weighted\", cv = cv, n_jobs = 2)\n",
    "\n",
    "\n",
    "\n",
    "\n",
    "print('Accuracy with all sensors: %.3f (%.3f)' % (n_scores.mean()*100, n_scores.std()*100))\n",
    "print('Recall with all sensors: %.3f (%.3f)' % (rec_scores.mean()*100, rec_scores.std()*100))\n",
    "\n",
    "print('Accuracy without cp: %.3f (%.3f)' % (scores_no_cp.mean()*100, scores_no_cp.std()*100))\n",
    "print('Recall without cp: %.3f (%.3f)' % (recall_no_cp.mean()*100, recall_no_cp.std()*100))\n",
    "\n",
    "print('Accuracy without cp and F532: %.3f (%.3f)' % (scores_no_cp_no_532.mean()*100, scores_no_cp_no_532.std()*100))\n",
    "print('Recall without cp and F532: %.3f (%.3f)' % (recall_no_cp_no_532.mean()*100, recall_no_cp_no_532.std()*100))\n",
    "\n",
    "print('Accuracy without cp, bbp and F532: %.3f (%.3f)' % (scores_no_cp_no_bbp_no_532.mean()*100, scores_no_cp_no_bbp_no_532.std()*100))\n",
    "print('Recall without cp, bbp and F532: %.3f (%.3f)' % (recall_no_cp_no_bbp_no_532.mean()*100, recall_no_cp_no_bbp_no_532.std()*100))\n"
   ]
  },
  {
   "cell_type": "code",
   "execution_count": 26,
   "metadata": {},
   "outputs": [],
   "source": [
    "from functools import reduce\n",
    "\n",
    "def unique(list1):\n",
    "    x = np.array(list1)\n",
    "    return(np.unique(x))\n",
    "    \n",
    "def plot_recall_score(X_list, y, X_names, cv = 10, return_scores = False, savepath = \"\"):\n",
    "    \"\"\" \n",
    "            X: numpy_array/pandas dataframe n_rows, m_features\n",
    "            y: numpy_array/pandas dataframe n_rows\n",
    "            Plots min, max and avg kfold crosval_score for a list of models\n",
    "        \n",
    "    \"\"\"\n",
    "    \n",
    "        \n",
    "    \n",
    "    names, mean_score = list(), list()\n",
    "    std_score = list()\n",
    "    ldf, ldf_std = list(), list()\n",
    "    #mnames = list()\n",
    "    \n",
    "    for i, cluster in enumerate(unique(y)):\n",
    "\n",
    "        rec_clust_desc, rec_clust_desc_error = list(), list()\n",
    "\n",
    "        name = i\n",
    "     \n",
    "        for descriptors in X_list:\n",
    "            \n",
    "            rec_clust = list()\n",
    "\n",
    "            for train_index, test_index in cv.split(descriptors, y):\n",
    "                X_train, X_test = descriptors.iloc[train_index], descriptors.iloc[test_index]\n",
    "                y_train, y_test = y.iloc[train_index], y.iloc[test_index]\n",
    "                clf = new_hgb.fit(X_train, y_train)\n",
    "                y_pred = clf.predict(X_test)\n",
    "                rec = recall_score(y_test, y_pred, average=None)[i]\n",
    "                \n",
    "                rec_clust.append(rec)\n",
    "\n",
    "            rec_clust_desc_mean = np.array(rec_clust).mean()\n",
    "            rec_clust_desc_std = np.array(rec_clust).std()\n",
    "            \n",
    "            rec_clust_desc.append(rec_clust_desc_mean)\n",
    "            rec_clust_desc_error.append(rec_clust_desc_std)\n",
    "            \n",
    "    \n",
    "        tmp = pd.DataFrame({name: rec_clust_desc}, index = X_names)\n",
    "        tmp_std = pd.DataFrame({name: rec_clust_desc_error}, index = X_names)\n",
    "            \n",
    "            \n",
    "        ldf.append(tmp)\n",
    "        ldf_std.append(tmp_std)\n",
    "        \n",
    "        \n",
    "        mean_score = list()\n",
    "    \n",
    "    X = X_list[1]\n",
    "        \n",
    "    frame_scores = reduce(lambda X,y: pd.merge(X,y, left_index = True, right_index = True), ldf).T\n",
    "    frame_std = reduce(lambda X,y: pd.merge(X,y, left_index = True, right_index = True), ldf_std).T\n",
    "        \n",
    "    \n",
    "    \n",
    "    fig, ax  = plt.subplots(1,1, figsize = (10,5))\n",
    "\n",
    "    frame_scores.plot.bar(ax = ax, cmap = 'RdYlBu', edgecolor = \"black\", yerr= frame_std)\n",
    "    ax.legend(loc = 'best')\n",
    "    ax.set_xlabel(\"\")\n",
    "    ax.set_title(\"Recall score by cluster for different sensors packages\")\n",
    "    ax.set_xticklabels([\"Cluster 1\", \"Cluster 2\", \"Cluster 3\", \"Cluster 4\"])\n",
    "    plt.setp( ax.xaxis.get_majorticklabels(), rotation= 90 ) \n",
    "    \n",
    "    fig.savefig(savepath, dpi = 300, bbox_inches='tight')\n",
    "\n",
    "    if return_scores:    \n",
    "        return frame_scores"
   ]
  },
  {
   "cell_type": "code",
   "execution_count": 27,
   "metadata": {},
   "outputs": [],
   "source": [
    "from functools import reduce\n",
    "\n",
    "def unique(list1):\n",
    "    x = np.array(list1)\n",
    "    return(np.unique(x))\n",
    "    \n",
    "def plot_precision_score(X_list, y, X_names, cv = 10, return_scores = False, savepath = \"\"):\n",
    "    \"\"\" \n",
    "            X: numpy_array/pandas dataframe n_rows, m_features\n",
    "            y: numpy_array/pandas dataframe n_rows\n",
    "            Plots min, max and avg kfold crosval_score for a list of models\n",
    "        \n",
    "    \"\"\"\n",
    "    \n",
    "        \n",
    "    \n",
    "    names, mean_score = list(), list()\n",
    "    std_score = list()\n",
    "    ldf, ldf_std = list(), list()\n",
    "    #mnames = list()\n",
    "    \n",
    "    for i, cluster in enumerate(unique(y)):\n",
    "\n",
    "        prec_clust_desc, prec_clust_desc_error = list(), list()\n",
    "\n",
    "        name = i\n",
    "     \n",
    "        for descriptors in X_list:\n",
    "            \n",
    "            prec_clust = list()\n",
    "\n",
    "            for train_index, test_index in cv.split(descriptors, y):\n",
    "                X_train, X_test = descriptors.iloc[train_index], descriptors.iloc[test_index]\n",
    "                y_train, y_test = y.iloc[train_index], y.iloc[test_index]\n",
    "                clf = new_hgb.fit(X_train, y_train)\n",
    "                y_pred = clf.predict(X_test)\n",
    "                prec = precision_score(y_test, y_pred, average=None)[i]\n",
    "                \n",
    "                prec_clust.append(prec)\n",
    "\n",
    "            prec_clust_desc_mean = np.array(prec_clust).mean()\n",
    "            prec_clust_desc_std = np.array(prec_clust).std()\n",
    "            \n",
    "            prec_clust_desc.append(prec_clust_desc_mean)\n",
    "            prec_clust_desc_error.append(prec_clust_desc_std)\n",
    "            \n",
    "    \n",
    "        tmp = pd.DataFrame({name: prec_clust_desc}, index = X_names)\n",
    "        tmp_std = pd.DataFrame({name: prec_clust_desc_error}, index = X_names)\n",
    "            \n",
    "            \n",
    "        ldf.append(tmp)\n",
    "        ldf_std.append(tmp_std)\n",
    "        \n",
    "        \n",
    "        mean_score = list()\n",
    "    \n",
    "    X = X_list[1]\n",
    "        \n",
    "    frame_scores = reduce(lambda X,y: pd.merge(X,y, left_index = True, right_index = True), ldf).T\n",
    "    frame_std = reduce(lambda X,y: pd.merge(X,y, left_index = True, right_index = True), ldf_std).T\n",
    "        \n",
    "    \n",
    "    \n",
    "    fig, ax  = plt.subplots(1,1, figsize = (10,5))\n",
    "\n",
    "    frame_scores.plot.bar(ax = ax, cmap = 'RdYlBu', edgecolor = \"black\", yerr= frame_std)\n",
    "    ax.legend(loc = 'best')\n",
    "    ax.set_xlabel(\"\")\n",
    "    ax.set_title(\"Precision score by cluster for different sensors packages\")\n",
    "    ax.set_xticklabels([\"Cluster 1\", \"Cluster 2\", \"Cluster 3\", \"Cluster 4\"])\n",
    "    fig.savefig(savepath, dpi = 300, bbox_inches='tight')\n",
    "\n",
    "    if return_scores:    \n",
    "        return frame_scores"
   ]
  },
  {
   "cell_type": "code",
   "execution_count": 28,
   "metadata": {},
   "outputs": [
    {
     "data": {
      "image/png": "[encoded data removed]",
      "text/plain": [
       "<Figure size 720x360 with 1 Axes>"
      ]
     },
     "metadata": {
      "needs_background": "light"
     },
     "output_type": "display_data"
    }
   ],
   "source": [
    "from sklearn.metrics import accuracy_score, recall_score\n",
    "from sklearn.datasets import load_breast_cancer\n",
    "from sklearn.model_selection import cross_val_score\n",
    "from sklearn.pipeline import Pipeline\n",
    "import numpy as np\n",
    "\n",
    "y = y_resampled\n",
    "\n",
    "X_configs =[X_resampled,\n",
    "         X_no_cp,\n",
    "         X_no_cp_no_532,\n",
    "         X_no_bbp_no_cp_no_532]\n",
    "\n",
    "X_def = [\"All sensors\", \"No cp\", \"No cp no 532\", \"No cp no 532 no bbp\"]\n",
    "\n",
    "recall_plot = plot_recall_score(X_list = X_configs, y = y_resampled, X_names = X_def, cv = StratifiedShuffleSplit(n_splits=20, random_state=0, test_size = 0.2), return_scores=True, savepath = \"C:\\\\Users\\petit\\Documents\\These\\Multispectral-Fluorescence\\Boussole\\Output\\Plots\\\\recall.png\")"
   ]
  },
  {
   "cell_type": "code",
   "execution_count": 29,
   "metadata": {},
   "outputs": [
    {
     "name": "stderr",
     "output_type": "stream",
     "text": [
      "c:\\Users\\petit\\AppData\\Local\\Programs\\Python\\Python310\\lib\\site-packages\\sklearn\\metrics\\_classification.py:1327: UndefinedMetricWarning: Precision is ill-defined and being set to 0.0 in labels with no predicted samples. Use `zero_division` parameter to control this behavior.\n",
      "  _warn_prf(average, modifier, msg_start, len(result))\n",
      "c:\\Users\\petit\\AppData\\Local\\Programs\\Python\\Python310\\lib\\site-packages\\sklearn\\metrics\\_classification.py:1327: UndefinedMetricWarning: Precision is ill-defined and being set to 0.0 in labels with no predicted samples. Use `zero_division` parameter to control this behavior.\n",
      "  _warn_prf(average, modifier, msg_start, len(result))\n",
      "c:\\Users\\petit\\AppData\\Local\\Programs\\Python\\Python310\\lib\\site-packages\\sklearn\\metrics\\_classification.py:1327: UndefinedMetricWarning: Precision is ill-defined and being set to 0.0 in labels with no predicted samples. Use `zero_division` parameter to control this behavior.\n",
      "  _warn_prf(average, modifier, msg_start, len(result))\n",
      "c:\\Users\\petit\\AppData\\Local\\Programs\\Python\\Python310\\lib\\site-packages\\sklearn\\metrics\\_classification.py:1327: UndefinedMetricWarning: Precision is ill-defined and being set to 0.0 in labels with no predicted samples. Use `zero_division` parameter to control this behavior.\n",
      "  _warn_prf(average, modifier, msg_start, len(result))\n",
      "c:\\Users\\petit\\AppData\\Local\\Programs\\Python\\Python310\\lib\\site-packages\\sklearn\\metrics\\_classification.py:1327: UndefinedMetricWarning: Precision is ill-defined and being set to 0.0 in labels with no predicted samples. Use `zero_division` parameter to control this behavior.\n",
      "  _warn_prf(average, modifier, msg_start, len(result))\n",
      "c:\\Users\\petit\\AppData\\Local\\Programs\\Python\\Python310\\lib\\site-packages\\sklearn\\metrics\\_classification.py:1327: UndefinedMetricWarning: Precision is ill-defined and being set to 0.0 in labels with no predicted samples. Use `zero_division` parameter to control this behavior.\n",
      "  _warn_prf(average, modifier, msg_start, len(result))\n",
      "c:\\Users\\petit\\AppData\\Local\\Programs\\Python\\Python310\\lib\\site-packages\\sklearn\\metrics\\_classification.py:1327: UndefinedMetricWarning: Precision is ill-defined and being set to 0.0 in labels with no predicted samples. Use `zero_division` parameter to control this behavior.\n",
      "  _warn_prf(average, modifier, msg_start, len(result))\n",
      "c:\\Users\\petit\\AppData\\Local\\Programs\\Python\\Python310\\lib\\site-packages\\sklearn\\metrics\\_classification.py:1327: UndefinedMetricWarning: Precision is ill-defined and being set to 0.0 in labels with no predicted samples. Use `zero_division` parameter to control this behavior.\n",
      "  _warn_prf(average, modifier, msg_start, len(result))\n",
      "c:\\Users\\petit\\AppData\\Local\\Programs\\Python\\Python310\\lib\\site-packages\\sklearn\\metrics\\_classification.py:1327: UndefinedMetricWarning: Precision is ill-defined and being set to 0.0 in labels with no predicted samples. Use `zero_division` parameter to control this behavior.\n",
      "  _warn_prf(average, modifier, msg_start, len(result))\n",
      "c:\\Users\\petit\\AppData\\Local\\Programs\\Python\\Python310\\lib\\site-packages\\sklearn\\metrics\\_classification.py:1327: UndefinedMetricWarning: Precision is ill-defined and being set to 0.0 in labels with no predicted samples. Use `zero_division` parameter to control this behavior.\n",
      "  _warn_prf(average, modifier, msg_start, len(result))\n",
      "c:\\Users\\petit\\AppData\\Local\\Programs\\Python\\Python310\\lib\\site-packages\\sklearn\\metrics\\_classification.py:1327: UndefinedMetricWarning: Precision is ill-defined and being set to 0.0 in labels with no predicted samples. Use `zero_division` parameter to control this behavior.\n",
      "  _warn_prf(average, modifier, msg_start, len(result))\n",
      "c:\\Users\\petit\\AppData\\Local\\Programs\\Python\\Python310\\lib\\site-packages\\sklearn\\metrics\\_classification.py:1327: UndefinedMetricWarning: Precision is ill-defined and being set to 0.0 in labels with no predicted samples. Use `zero_division` parameter to control this behavior.\n",
      "  _warn_prf(average, modifier, msg_start, len(result))\n",
      "c:\\Users\\petit\\AppData\\Local\\Programs\\Python\\Python310\\lib\\site-packages\\sklearn\\metrics\\_classification.py:1327: UndefinedMetricWarning: Precision is ill-defined and being set to 0.0 in labels with no predicted samples. Use `zero_division` parameter to control this behavior.\n",
      "  _warn_prf(average, modifier, msg_start, len(result))\n",
      "c:\\Users\\petit\\AppData\\Local\\Programs\\Python\\Python310\\lib\\site-packages\\sklearn\\metrics\\_classification.py:1327: UndefinedMetricWarning: Precision is ill-defined and being set to 0.0 in labels with no predicted samples. Use `zero_division` parameter to control this behavior.\n",
      "  _warn_prf(average, modifier, msg_start, len(result))\n",
      "c:\\Users\\petit\\AppData\\Local\\Programs\\Python\\Python310\\lib\\site-packages\\sklearn\\metrics\\_classification.py:1327: UndefinedMetricWarning: Precision is ill-defined and being set to 0.0 in labels with no predicted samples. Use `zero_division` parameter to control this behavior.\n",
      "  _warn_prf(average, modifier, msg_start, len(result))\n"
     ]
    },
    {
     "data": {
      "image/png": "[encoded data removed]",
      "text/plain": [
       "<Figure size 720x360 with 1 Axes>"
      ]
     },
     "metadata": {
      "needs_background": "light"
     },
     "output_type": "display_data"
    }
   ],
   "source": [
    "t = plot_precision_score(X_list = X_configs, y = y_resampled, X_names = X_def, cv = StratifiedShuffleSplit(n_splits=20, random_state = 0, test_size = 0.2), return_scores=True, savepath = \"C:\\\\Users\\petit\\Documents\\These\\Multispectral-Fluorescence\\Boussole\\Output\\Plots\\\\precision.png\")"
   ]
  },
  {
   "cell_type": "code",
   "execution_count": 40,
   "metadata": {},
   "outputs": [],
   "source": [
    "data = pd.read_csv(\"C:\\\\Users\\petit\\Documents\\These\\Multispectral-Fluorescence\\Boussole\\Output\\Data\\Compiled\\hplc_mf_2_clusterised_cp.csv\")\n",
    "\n",
    "data = data.assign(f440_bbp = lambda x: x['fluo_440']/x['bb700'],\n",
    "                f470_bbp= lambda x: x['fluo_470']/x['bb700'],\n",
    "                f532_bbp = lambda x: x['fluo_532']/x['bb700'],\n",
    "                f532_cp = lambda x: x['fluo_532']/x['cp'],\n",
    "                f440_cp = lambda x: x['fluo_440']/x['cp'],\n",
    "                f470_cp = lambda x: x['fluo_470']/x['cp'],\n",
    "                f440b_f470b = lambda x: x['f440_bbp']/x['f470_bbp'],\n",
    "                f532b_f470b = lambda x: x['f532_bbp']/x['f470_bbp'],\n",
    "                f532_f440 = lambda x: x['fluo_532']/x['fluo_440'],\n",
    "                bbp_cp = lambda x: x['bb700']/x['cp'])\n",
    "\n",
    "full_descriptors = data[[\"f440_f470\", \"f532_f470\", \"bbp_cp\", \"f440_bbp\", \"f470_bbp\", \"f532_bbp\", \"f440_cp\", \"f470_cp\"]]\n",
    "target = data[\"cluster\"]\n",
    "\n",
    "ros = RandomOverSampler()\n",
    "#X_resampled, y_resampled = ros.fit_resample(new_descriptors, target)\n",
    "X_full, y_full = SMOTE().fit_resample(full_descriptors, target)"
   ]
  },
  {
   "cell_type": "code",
   "execution_count": 41,
   "metadata": {},
   "outputs": [],
   "source": [
    "new_descriptors = data[[\"f440_f470\", \"f532_f470\", \"bbp_cp\", \"f440_bbp\", \"f470_bbp\", \"f532_bbp\", \"f440_cp\", \"f470_cp\"]]\n",
    "no_cp = data[[\"f440_f470\", \"f532_f470\", \"f440_bbp\", \"f470_bbp\", \"f532_bbp\"]]\n",
    "no_cp_no_532 = data[[\"f440_f470\", \"f440_bbp\", \"f470_bbp\"]]\n",
    "no_bbp_no_cp_no_532 = data[[\"f440_f470\"]]\n",
    "\n",
    "\n",
    "ros = RandomOverSampler()\n",
    "#X_resampled, y_resampled = ros.fit_resample(new_descriptors, target)\n",
    "X_resampled, y_resampled = SMOTE().fit_resample(new_descriptors, target)\n",
    "X_no_cp, y_resampled = SMOTE().fit_resample(no_cp, target)\n",
    "X_no_cp_no_532, y_resampled = SMOTE().fit_resample(no_cp_no_532, target)\n",
    "X_no_bbp_no_cp_no_532, y_resampled = SMOTE().fit_resample(no_bbp_no_cp_no_532, target)"
   ]
  },
  {
   "cell_type": "code",
   "execution_count": 42,
   "metadata": {},
   "outputs": [],
   "source": [
    "X_train, X_test, y_train, y_test = train_test_split(X_resampled, y_resampled, test_size =0.3, stratify = y_resampled, random_state=0)\n",
    "X_train_no_cp, X_test_no_cp, y_train, y_test = train_test_split(X_no_cp, y_resampled, test_size =0.3, stratify = y_resampled, random_state=0)\n",
    "X_train_no_cp_no_532, X_test_no_cp_no_532, y_train, y_test = train_test_split(X_no_cp_no_532, y_resampled, test_size =0.3, stratify = y_resampled, random_state=0)\n",
    "X_train_no_bbp_no_cp_no_532, X_test_no_bbp_no_cp_no_532, y_train, y_test = train_test_split(X_no_bbp_no_cp_no_532, y_resampled, test_size =0.3, stratify = y_resampled, random_state=0)\n"
   ]
  },
  {
   "cell_type": "code",
   "execution_count": 43,
   "metadata": {},
   "outputs": [],
   "source": [
    "#histogram boosting gradient classifer\n",
    "\n",
    "new_hgb.fit(X_train,y_train)\n",
    "y_pred_hgb = new_hgb.predict(X_test)\n",
    "\n",
    "new_hgb.fit(X_train_no_cp,y_train)\n",
    "y_pred_no_cp = new_hgb.predict(X_test_no_cp)\n",
    "\n",
    "new_hgb.fit(X_train_no_cp_no_532,y_train)\n",
    "y_pred_no_cp_no_532 = new_hgb.predict(X_test_no_cp_no_532)\n",
    "\n",
    "new_hgb.fit(X_train_no_bbp_no_cp_no_532,y_train)\n",
    "y_pred_no_bbp_no_cp_no_532 = new_hgb.predict(X_test_no_bbp_no_cp_no_532)\n"
   ]
  },
  {
   "cell_type": "code",
   "execution_count": 46,
   "metadata": {},
   "outputs": [
    {
     "name": "stdout",
     "output_type": "stream",
     "text": [
      "Accuracy with all sensors: 77.250 (14.523)\n",
      "Recall with all sensors: 77.727 (14.510)\n",
      "Accuracy without cp: 62.083 (14.859)\n",
      "Recall without cp: 62.727 (14.910)\n",
      "Accuracy without cp and F532: 64.750 (13.543)\n",
      "Recall without cp and F532: 65.455 (13.966)\n",
      "Accuracy without cp, bbp and F532: 45.500 (12.249)\n",
      "Recall without cp, bbp and F532: 45.909 (12.687)\n"
     ]
    }
   ],
   "source": [
    "cv = StratifiedShuffleSplit(n_splits=20, random_state=0)\n",
    "n_scores = cross_val_score(new_hgb, X_resampled, y_resampled, scoring = \"balanced_accuracy\", cv = cv, n_jobs = 2)\n",
    "rec_scores = cross_val_score(new_hgb, X_resampled.values, y_resampled.values, scoring = \"recall_weighted\", cv = cv, n_jobs = 2)\n",
    "scores_no_cp = cross_val_score(new_hgb, X_no_cp, y_resampled, scoring = \"balanced_accuracy\", cv = cv, n_jobs = 2)\n",
    "recall_no_cp = cross_val_score(new_hgb, X_no_cp, y_resampled, scoring = \"recall_weighted\", cv = cv, n_jobs = 2)\n",
    "scores_no_cp_no_532 = cross_val_score(new_hgb, X_no_cp_no_532, y_resampled, scoring = \"balanced_accuracy\", cv = cv, n_jobs = 2)\n",
    "recall_no_cp_no_532 = cross_val_score(new_hgb, X_no_cp_no_532, y_resampled, scoring = \"recall_weighted\", cv = cv, n_jobs = 2)\n",
    "scores_no_cp_no_bbp_no_532 = cross_val_score(new_hgb, X_no_bbp_no_cp_no_532 , y_resampled, scoring = \"balanced_accuracy\", cv = cv, n_jobs = 2)\n",
    "recall_no_cp_no_bbp_no_532 = cross_val_score(new_hgb, X_no_bbp_no_cp_no_532 , y_resampled, scoring = \"recall_weighted\", cv = cv, n_jobs = 2)\n",
    "\n",
    "\n",
    "\n",
    "\n",
    "print('Accuracy with all sensors: %.3f (%.3f)' % (n_scores.mean()*100, n_scores.std()*100))\n",
    "print('Recall with all sensors: %.3f (%.3f)' % (rec_scores.mean()*100, rec_scores.std()*100))\n",
    "\n",
    "print('Accuracy without cp: %.3f (%.3f)' % (scores_no_cp.mean()*100, scores_no_cp.std()*100))\n",
    "print('Recall without cp: %.3f (%.3f)' % (recall_no_cp.mean()*100, recall_no_cp.std()*100))\n",
    "\n",
    "print('Accuracy without cp and F532: %.3f (%.3f)' % (scores_no_cp_no_532.mean()*100, scores_no_cp_no_532.std()*100))\n",
    "print('Recall without cp and F532: %.3f (%.3f)' % (recall_no_cp_no_532.mean()*100, recall_no_cp_no_532.std()*100))\n",
    "\n",
    "print('Accuracy without cp, bbp and F532: %.3f (%.3f)' % (scores_no_cp_no_bbp_no_532.mean()*100, scores_no_cp_no_bbp_no_532.std()*100))\n",
    "print('Recall without cp, bbp and F532: %.3f (%.3f)' % (recall_no_cp_no_bbp_no_532.mean()*100, recall_no_cp_no_bbp_no_532.std()*100))"
   ]
  },
  {
   "cell_type": "code",
   "execution_count": 42,
   "metadata": {},
   "outputs": [
    {
     "ename": "ValueError",
     "evalue": "The number of FixedLocator locations (3), usually from a call to set_ticks, does not match the number of ticklabels (4).",
     "output_type": "error",
     "traceback": [
      "\u001b[1;31m---------------------------------------------------------------------------\u001b[0m",
      "\u001b[1;31mValueError\u001b[0m                                Traceback (most recent call last)",
      "\u001b[1;32mc:\\Users\\petit\\Documents\\These\\Multispectral-Fluorescence\\Boussole\\Scripts\\svc_bouss.ipynb Cellule 32\u001b[0m in \u001b[0;36m<cell line: 10>\u001b[1;34m()\u001b[0m\n\u001b[0;32m      <a href='vscode-notebook-cell:/c%3A/Users/petit/Documents/These/Multispectral-Fluorescence/Boussole/Scripts/svc_bouss.ipynb#ch0000041?line=2'>3</a>\u001b[0m X_configs \u001b[39m=\u001b[39m[X_resampled,\n\u001b[0;32m      <a href='vscode-notebook-cell:/c%3A/Users/petit/Documents/These/Multispectral-Fluorescence/Boussole/Scripts/svc_bouss.ipynb#ch0000041?line=3'>4</a>\u001b[0m          X_no_cp,\n\u001b[0;32m      <a href='vscode-notebook-cell:/c%3A/Users/petit/Documents/These/Multispectral-Fluorescence/Boussole/Scripts/svc_bouss.ipynb#ch0000041?line=4'>5</a>\u001b[0m          X_no_cp_no_532,\n\u001b[0;32m      <a href='vscode-notebook-cell:/c%3A/Users/petit/Documents/These/Multispectral-Fluorescence/Boussole/Scripts/svc_bouss.ipynb#ch0000041?line=5'>6</a>\u001b[0m          X_no_bbp_no_cp_no_532]\n\u001b[0;32m      <a href='vscode-notebook-cell:/c%3A/Users/petit/Documents/These/Multispectral-Fluorescence/Boussole/Scripts/svc_bouss.ipynb#ch0000041?line=7'>8</a>\u001b[0m X_def \u001b[39m=\u001b[39m [\u001b[39m\"\u001b[39m\u001b[39mAll sensors\u001b[39m\u001b[39m\"\u001b[39m, \u001b[39m\"\u001b[39m\u001b[39mNo cp\u001b[39m\u001b[39m\"\u001b[39m, \u001b[39m\"\u001b[39m\u001b[39mNo cp no 532\u001b[39m\u001b[39m\"\u001b[39m, \u001b[39m\"\u001b[39m\u001b[39mNo cp no 532 no bbp\u001b[39m\u001b[39m\"\u001b[39m]\n\u001b[1;32m---> <a href='vscode-notebook-cell:/c%3A/Users/petit/Documents/These/Multispectral-Fluorescence/Boussole/Scripts/svc_bouss.ipynb#ch0000041?line=9'>10</a>\u001b[0m recall_plot \u001b[39m=\u001b[39m plot_recall_score(X_list \u001b[39m=\u001b[39;49m X_configs, y \u001b[39m=\u001b[39;49m y_resampled, X_names \u001b[39m=\u001b[39;49m X_def, cv \u001b[39m=\u001b[39;49m StratifiedShuffleSplit(n_splits\u001b[39m=\u001b[39;49m\u001b[39m20\u001b[39;49m, random_state\u001b[39m=\u001b[39;49m\u001b[39m0\u001b[39;49m, test_size \u001b[39m=\u001b[39;49m \u001b[39m0.2\u001b[39;49m), return_scores\u001b[39m=\u001b[39;49m\u001b[39mTrue\u001b[39;49;00m, savepath \u001b[39m=\u001b[39;49m \u001b[39m\"\u001b[39;49m\u001b[39mC:\u001b[39;49m\u001b[39m\\\\\u001b[39;49;00m\u001b[39mUsers\u001b[39;49m\u001b[39m\\\u001b[39;49m\u001b[39mpetit\u001b[39;49m\u001b[39m\\\u001b[39;49m\u001b[39mDocuments\u001b[39;49m\u001b[39m\\\u001b[39;49m\u001b[39mThese\u001b[39;49m\u001b[39m\\\u001b[39;49m\u001b[39mMultispectral-Fluorescence\u001b[39;49m\u001b[39m\\\u001b[39;49m\u001b[39mBoussole\u001b[39;49m\u001b[39m\\\u001b[39;49m\u001b[39mOutput\u001b[39;49m\u001b[39m\\\u001b[39;49m\u001b[39mPlots\u001b[39;49m\u001b[39m\\\\\u001b[39;49;00m\u001b[39mrecall_3_cluster.png\u001b[39;49m\u001b[39m\"\u001b[39;49m)\n",
      "\u001b[1;32mc:\\Users\\petit\\Documents\\These\\Multispectral-Fluorescence\\Boussole\\Scripts\\svc_bouss.ipynb Cellule 32\u001b[0m in \u001b[0;36mplot_recall_score\u001b[1;34m(X_list, y, X_names, cv, return_scores, savepath)\u001b[0m\n\u001b[0;32m     <a href='vscode-notebook-cell:/c%3A/Users/petit/Documents/These/Multispectral-Fluorescence/Boussole/Scripts/svc_bouss.ipynb#ch0000041?line=68'>69</a>\u001b[0m ax\u001b[39m.\u001b[39mset_xlabel(\u001b[39m\"\u001b[39m\u001b[39m\"\u001b[39m)\n\u001b[0;32m     <a href='vscode-notebook-cell:/c%3A/Users/petit/Documents/These/Multispectral-Fluorescence/Boussole/Scripts/svc_bouss.ipynb#ch0000041?line=69'>70</a>\u001b[0m ax\u001b[39m.\u001b[39mset_title(\u001b[39m\"\u001b[39m\u001b[39mRecall score by cluster for different sensors packages\u001b[39m\u001b[39m\"\u001b[39m)\n\u001b[1;32m---> <a href='vscode-notebook-cell:/c%3A/Users/petit/Documents/These/Multispectral-Fluorescence/Boussole/Scripts/svc_bouss.ipynb#ch0000041?line=70'>71</a>\u001b[0m ax\u001b[39m.\u001b[39;49mset_xticklabels([\u001b[39m\"\u001b[39;49m\u001b[39mCluster 1\u001b[39;49m\u001b[39m\"\u001b[39;49m, \u001b[39m\"\u001b[39;49m\u001b[39mCluster 2\u001b[39;49m\u001b[39m\"\u001b[39;49m, \u001b[39m\"\u001b[39;49m\u001b[39mCluster 3\u001b[39;49m\u001b[39m\"\u001b[39;49m, \u001b[39m\"\u001b[39;49m\u001b[39mCluster 4\u001b[39;49m\u001b[39m\"\u001b[39;49m])\n\u001b[0;32m     <a href='vscode-notebook-cell:/c%3A/Users/petit/Documents/These/Multispectral-Fluorescence/Boussole/Scripts/svc_bouss.ipynb#ch0000041?line=71'>72</a>\u001b[0m plt\u001b[39m.\u001b[39msetp( ax\u001b[39m.\u001b[39mxaxis\u001b[39m.\u001b[39mget_majorticklabels(), rotation\u001b[39m=\u001b[39m \u001b[39m90\u001b[39m ) \n\u001b[0;32m     <a href='vscode-notebook-cell:/c%3A/Users/petit/Documents/These/Multispectral-Fluorescence/Boussole/Scripts/svc_bouss.ipynb#ch0000041?line=73'>74</a>\u001b[0m fig\u001b[39m.\u001b[39msavefig(savepath, dpi \u001b[39m=\u001b[39m \u001b[39m300\u001b[39m, bbox_inches\u001b[39m=\u001b[39m\u001b[39m'\u001b[39m\u001b[39mtight\u001b[39m\u001b[39m'\u001b[39m)\n",
      "File \u001b[1;32mc:\\Users\\petit\\AppData\\Local\\Programs\\Python\\Python310\\lib\\site-packages\\matplotlib\\axes\\_base.py:75\u001b[0m, in \u001b[0;36m_axis_method_wrapper.__set_name__.<locals>.wrapper\u001b[1;34m(self, *args, **kwargs)\u001b[0m\n\u001b[0;32m     74\u001b[0m \u001b[39mdef\u001b[39;00m \u001b[39mwrapper\u001b[39m(\u001b[39mself\u001b[39m, \u001b[39m*\u001b[39margs, \u001b[39m*\u001b[39m\u001b[39m*\u001b[39mkwargs):\n\u001b[1;32m---> 75\u001b[0m     \u001b[39mreturn\u001b[39;00m get_method(\u001b[39mself\u001b[39m)(\u001b[39m*\u001b[39margs, \u001b[39m*\u001b[39m\u001b[39m*\u001b[39mkwargs)\n",
      "File \u001b[1;32mc:\\Users\\petit\\AppData\\Local\\Programs\\Python\\Python310\\lib\\site-packages\\matplotlib\\axis.py:1798\u001b[0m, in \u001b[0;36mAxis._set_ticklabels\u001b[1;34m(self, labels, fontdict, minor, **kwargs)\u001b[0m\n\u001b[0;32m   1796\u001b[0m \u001b[39mif\u001b[39;00m fontdict \u001b[39mis\u001b[39;00m \u001b[39mnot\u001b[39;00m \u001b[39mNone\u001b[39;00m:\n\u001b[0;32m   1797\u001b[0m     kwargs\u001b[39m.\u001b[39mupdate(fontdict)\n\u001b[1;32m-> 1798\u001b[0m \u001b[39mreturn\u001b[39;00m \u001b[39mself\u001b[39m\u001b[39m.\u001b[39mset_ticklabels(labels, minor\u001b[39m=\u001b[39mminor, \u001b[39m*\u001b[39m\u001b[39m*\u001b[39mkwargs)\n",
      "File \u001b[1;32mc:\\Users\\petit\\AppData\\Local\\Programs\\Python\\Python310\\lib\\site-packages\\matplotlib\\axis.py:1720\u001b[0m, in \u001b[0;36mAxis.set_ticklabels\u001b[1;34m(self, ticklabels, minor, **kwargs)\u001b[0m\n\u001b[0;32m   1716\u001b[0m \u001b[39mif\u001b[39;00m \u001b[39misinstance\u001b[39m(locator, mticker\u001b[39m.\u001b[39mFixedLocator):\n\u001b[0;32m   1717\u001b[0m     \u001b[39m# Passing [] as a list of ticklabels is often used as a way to\u001b[39;00m\n\u001b[0;32m   1718\u001b[0m     \u001b[39m# remove all tick labels, so only error for > 0 ticklabels\u001b[39;00m\n\u001b[0;32m   1719\u001b[0m     \u001b[39mif\u001b[39;00m \u001b[39mlen\u001b[39m(locator\u001b[39m.\u001b[39mlocs) \u001b[39m!=\u001b[39m \u001b[39mlen\u001b[39m(ticklabels) \u001b[39mand\u001b[39;00m \u001b[39mlen\u001b[39m(ticklabels) \u001b[39m!=\u001b[39m \u001b[39m0\u001b[39m:\n\u001b[1;32m-> 1720\u001b[0m         \u001b[39mraise\u001b[39;00m \u001b[39mValueError\u001b[39;00m(\n\u001b[0;32m   1721\u001b[0m             \u001b[39m\"\u001b[39m\u001b[39mThe number of FixedLocator locations\u001b[39m\u001b[39m\"\u001b[39m\n\u001b[0;32m   1722\u001b[0m             \u001b[39mf\u001b[39m\u001b[39m\"\u001b[39m\u001b[39m (\u001b[39m\u001b[39m{\u001b[39;00m\u001b[39mlen\u001b[39m(locator\u001b[39m.\u001b[39mlocs)\u001b[39m}\u001b[39;00m\u001b[39m), usually from a call to\u001b[39m\u001b[39m\"\u001b[39m\n\u001b[0;32m   1723\u001b[0m             \u001b[39m\"\u001b[39m\u001b[39m set_ticks, does not match\u001b[39m\u001b[39m\"\u001b[39m\n\u001b[0;32m   1724\u001b[0m             \u001b[39mf\u001b[39m\u001b[39m\"\u001b[39m\u001b[39m the number of ticklabels (\u001b[39m\u001b[39m{\u001b[39;00m\u001b[39mlen\u001b[39m(ticklabels)\u001b[39m}\u001b[39;00m\u001b[39m).\u001b[39m\u001b[39m\"\u001b[39m)\n\u001b[0;32m   1725\u001b[0m     tickd \u001b[39m=\u001b[39m {loc: lab \u001b[39mfor\u001b[39;00m loc, lab \u001b[39min\u001b[39;00m \u001b[39mzip\u001b[39m(locator\u001b[39m.\u001b[39mlocs, ticklabels)}\n\u001b[0;32m   1726\u001b[0m     func \u001b[39m=\u001b[39m functools\u001b[39m.\u001b[39mpartial(\u001b[39mself\u001b[39m\u001b[39m.\u001b[39m_format_with_dict, tickd)\n",
      "\u001b[1;31mValueError\u001b[0m: The number of FixedLocator locations (3), usually from a call to set_ticks, does not match the number of ticklabels (4)."
     ]
    },
    {
     "data": {
      "image/png": "[encoded data removed]",
      "text/plain": [
       "<Figure size 720x360 with 1 Axes>"
      ]
     },
     "metadata": {
      "needs_background": "light"
     },
     "output_type": "display_data"
    }
   ],
   "source": [
    "y = y_resampled\n",
    "\n",
    "X_configs =[X_resampled,\n",
    "         X_no_cp,\n",
    "         X_no_cp_no_532,\n",
    "         X_no_bbp_no_cp_no_532]\n",
    "\n",
    "X_def = [\"All sensors\", \"No cp\", \"No cp no 532\", \"No cp no 532 no bbp\"]\n",
    "\n",
    "recall_plot = plot_recall_score(X_list = X_configs, y = y_resampled, X_names = X_def, cv = StratifiedShuffleSplit(n_splits=20, random_state=0, test_size = 0.2), return_scores=True, savepath = \"C:\\\\Users\\petit\\Documents\\These\\Multispectral-Fluorescence\\Boussole\\Output\\Plots\\\\recall_3_cluster.png\")"
   ]
  },
  {
   "cell_type": "code",
   "execution_count": null,
   "metadata": {},
   "outputs": [],
   "source": [
    "\n",
    "precision_plot = plot_precision_score(X_list = X_configs, y = y_resampled, X_names = X_def, cv = StratifiedShuffleSplit(n_splits=20, random_state=0, test_size = 0.2), return_scores=True, savepath = \"C:\\\\Users\\petit\\Documents\\These\\Multispectral-Fluorescence\\Boussole\\Output\\Plots\\\\precision_3_cluster.png\")"
   ]
  },
  {
   "cell_type": "code",
   "execution_count": 88,
   "metadata": {},
   "outputs": [
    {
     "data": {
      "text/html": [
       "<div>\n",
       "<style scoped>\n",
       "    .dataframe tbody tr th:only-of-type {\n",
       "        vertical-align: middle;\n",
       "    }\n",
       "\n",
       "    .dataframe tbody tr th {\n",
       "        vertical-align: top;\n",
       "    }\n",
       "\n",
       "    .dataframe thead th {\n",
       "        text-align: right;\n",
       "    }\n",
       "</style>\n",
       "<table border=\"1\" class=\"dataframe\">\n",
       "  <thead>\n",
       "    <tr style=\"text-align: right;\">\n",
       "      <th></th>\n",
       "      <th>fluo_440</th>\n",
       "      <th>fluo_470</th>\n",
       "      <th>fluo_532</th>\n",
       "      <th>bb700</th>\n",
       "      <th>cp</th>\n",
       "    </tr>\n",
       "  </thead>\n",
       "  <tbody>\n",
       "    <tr>\n",
       "      <th>0</th>\n",
       "      <td>56.0</td>\n",
       "      <td>60.0</td>\n",
       "      <td>54.0</td>\n",
       "      <td>153.0</td>\n",
       "      <td>0.242650</td>\n",
       "    </tr>\n",
       "    <tr>\n",
       "      <th>1</th>\n",
       "      <td>56.0</td>\n",
       "      <td>60.0</td>\n",
       "      <td>53.0</td>\n",
       "      <td>153.0</td>\n",
       "      <td>0.242600</td>\n",
       "    </tr>\n",
       "    <tr>\n",
       "      <th>2</th>\n",
       "      <td>59.0</td>\n",
       "      <td>63.5</td>\n",
       "      <td>53.5</td>\n",
       "      <td>156.0</td>\n",
       "      <td>0.242335</td>\n",
       "    </tr>\n",
       "    <tr>\n",
       "      <th>3</th>\n",
       "      <td>60.5</td>\n",
       "      <td>65.0</td>\n",
       "      <td>53.5</td>\n",
       "      <td>156.0</td>\n",
       "      <td>0.242205</td>\n",
       "    </tr>\n",
       "    <tr>\n",
       "      <th>4</th>\n",
       "      <td>65.0</td>\n",
       "      <td>68.0</td>\n",
       "      <td>53.5</td>\n",
       "      <td>156.0</td>\n",
       "      <td>0.242080</td>\n",
       "    </tr>\n",
       "  </tbody>\n",
       "</table>\n",
       "</div>"
      ],
      "text/plain": [
       "   fluo_440  fluo_470  fluo_532  bb700        cp\n",
       "0      56.0      60.0      54.0  153.0  0.242650\n",
       "1      56.0      60.0      53.0  153.0  0.242600\n",
       "2      59.0      63.5      53.5  156.0  0.242335\n",
       "3      60.5      65.0      53.5  156.0  0.242205\n",
       "4      65.0      68.0      53.5  156.0  0.242080"
      ]
     },
     "execution_count": 88,
     "metadata": {},
     "output_type": "execute_result"
    }
   ],
   "source": [
    "#test to predict on the ctd data\n",
    "\n",
    "ctd_data = pd.read_csv(\"C:\\\\Users\\petit\\Documents\\These\\Multispectral-Fluorescence\\Boussole\\Output\\Data\\Compiled\\\\test_continuous_data.csv\")\n",
    "\n",
    "#select the raw descriptors\n",
    "descriptors_raw_name = [\"fluo_440\", \"fluo_470\", \"fluo_532\", \"bb700\", \"cp\"]\n",
    "\n",
    "#select the profile\n",
    "prof_selected = 230\n",
    "ctd_prof = ctd_data[ctd_data.bouss == prof_selected]\n",
    "ctd_prof = ctd_prof[ctd_prof.depth < 81]\n",
    "ctd_prof=ctd_prof.dropna().reset_index(drop=True)\n",
    "\n",
    "#get descriptors\n",
    "descriptors_raw = ctd_prof[descriptors_raw_name]\n",
    "\n",
    "descriptors_raw.head()"
   ]
  },
  {
   "cell_type": "code",
   "execution_count": 89,
   "metadata": {},
   "outputs": [
    {
     "data": {
      "text/html": [
       "<div>\n",
       "<style scoped>\n",
       "    .dataframe tbody tr th:only-of-type {\n",
       "        vertical-align: middle;\n",
       "    }\n",
       "\n",
       "    .dataframe tbody tr th {\n",
       "        vertical-align: top;\n",
       "    }\n",
       "\n",
       "    .dataframe thead th {\n",
       "        text-align: right;\n",
       "    }\n",
       "</style>\n",
       "<table border=\"1\" class=\"dataframe\">\n",
       "  <thead>\n",
       "    <tr style=\"text-align: right;\">\n",
       "      <th></th>\n",
       "      <th>f440_f470</th>\n",
       "      <th>f532_f470</th>\n",
       "      <th>bbp_cp</th>\n",
       "      <th>f440_bbp</th>\n",
       "      <th>f470_bbp</th>\n",
       "      <th>f532_bbp</th>\n",
       "      <th>f440_cp</th>\n",
       "      <th>f470_cp</th>\n",
       "    </tr>\n",
       "  </thead>\n",
       "  <tbody>\n",
       "    <tr>\n",
       "      <th>0</th>\n",
       "      <td>0.933333</td>\n",
       "      <td>0.900000</td>\n",
       "      <td>630.537812</td>\n",
       "      <td>0.366013</td>\n",
       "      <td>0.392157</td>\n",
       "      <td>0.352941</td>\n",
       "      <td>230.785081</td>\n",
       "      <td>247.269730</td>\n",
       "    </tr>\n",
       "    <tr>\n",
       "      <th>1</th>\n",
       "      <td>0.933333</td>\n",
       "      <td>0.883333</td>\n",
       "      <td>630.667766</td>\n",
       "      <td>0.366013</td>\n",
       "      <td>0.392157</td>\n",
       "      <td>0.346405</td>\n",
       "      <td>230.832646</td>\n",
       "      <td>247.320692</td>\n",
       "    </tr>\n",
       "    <tr>\n",
       "      <th>2</th>\n",
       "      <td>0.929134</td>\n",
       "      <td>0.842520</td>\n",
       "      <td>643.736976</td>\n",
       "      <td>0.378205</td>\n",
       "      <td>0.407051</td>\n",
       "      <td>0.342949</td>\n",
       "      <td>243.464625</td>\n",
       "      <td>262.033961</td>\n",
       "    </tr>\n",
       "    <tr>\n",
       "      <th>3</th>\n",
       "      <td>0.930769</td>\n",
       "      <td>0.823077</td>\n",
       "      <td>644.082492</td>\n",
       "      <td>0.387821</td>\n",
       "      <td>0.416667</td>\n",
       "      <td>0.342949</td>\n",
       "      <td>249.788402</td>\n",
       "      <td>268.367705</td>\n",
       "    </tr>\n",
       "    <tr>\n",
       "      <th>4</th>\n",
       "      <td>0.955882</td>\n",
       "      <td>0.786765</td>\n",
       "      <td>644.415069</td>\n",
       "      <td>0.416667</td>\n",
       "      <td>0.435897</td>\n",
       "      <td>0.342949</td>\n",
       "      <td>268.506279</td>\n",
       "      <td>280.898876</td>\n",
       "    </tr>\n",
       "  </tbody>\n",
       "</table>\n",
       "</div>"
      ],
      "text/plain": [
       "   f440_f470  f532_f470      bbp_cp  f440_bbp  f470_bbp  f532_bbp     f440_cp  \\\n",
       "0   0.933333   0.900000  630.537812  0.366013  0.392157  0.352941  230.785081   \n",
       "1   0.933333   0.883333  630.667766  0.366013  0.392157  0.346405  230.832646   \n",
       "2   0.929134   0.842520  643.736976  0.378205  0.407051  0.342949  243.464625   \n",
       "3   0.930769   0.823077  644.082492  0.387821  0.416667  0.342949  249.788402   \n",
       "4   0.955882   0.786765  644.415069  0.416667  0.435897  0.342949  268.506279   \n",
       "\n",
       "      f470_cp  \n",
       "0  247.269730  \n",
       "1  247.320692  \n",
       "2  262.033961  \n",
       "3  268.367705  \n",
       "4  280.898876  "
      ]
     },
     "execution_count": 89,
     "metadata": {},
     "output_type": "execute_result"
    }
   ],
   "source": [
    "descriptors = descriptors_raw.assign(f440_bbp = lambda x: x['fluo_440']/x['bb700'],\n",
    "                f470_bbp= lambda x: x['fluo_470']/x['bb700'],\n",
    "                f532_bbp = lambda x: x['fluo_532']/x['bb700'],\n",
    "                f440_f470 = lambda x: x['fluo_440']/x['fluo_470'],\n",
    "                f532_f470 = lambda x: x['fluo_532']/x['fluo_470'],\n",
    "                f532_cp = lambda x: x['fluo_532']/x['cp'],\n",
    "                f440_cp = lambda x: x['fluo_440']/x['cp'],\n",
    "                f470_cp = lambda x: x['fluo_470']/x['cp'],\n",
    "                f440b_f470b = lambda x: x['f440_bbp']/x['f470_bbp'],\n",
    "                f532b_f470b = lambda x: x['f532_bbp']/x['f470_bbp'],\n",
    "                f532_f440 = lambda x: x['fluo_532']/x['fluo_440'],\n",
    "                bbp_cp = lambda x: x['bb700']/x['cp'])\n",
    "\n",
    "descriptors = descriptors[[\"f440_f470\", \"f532_f470\", \"bbp_cp\", \"f440_bbp\", \"f470_bbp\", \"f532_bbp\", \"f440_cp\", \"f470_cp\"]]\n",
    "\n",
    "descriptors.head()"
   ]
  },
  {
   "cell_type": "code",
   "execution_count": 90,
   "metadata": {},
   "outputs": [],
   "source": [
    "new_hgb.fit(X_resampled,y_resampled)\n",
    "cluster_predicted = new_hgb.predict(descriptors)"
   ]
  },
  {
   "cell_type": "code",
   "execution_count": 91,
   "metadata": {},
   "outputs": [],
   "source": [
    "ctd_prof_clust = ctd_prof.assign(pop = cluster_predicted)"
   ]
  },
  {
   "cell_type": "code",
   "execution_count": 92,
   "metadata": {},
   "outputs": [
    {
     "data": {
      "text/plain": [
       "<seaborn.axisgrid.FacetGrid at 0x1ac707fead0>"
      ]
     },
     "execution_count": 92,
     "metadata": {},
     "output_type": "execute_result"
    },
    {
     "data": {
      "image/png": "[encoded data removed]",
      "text/plain": [
       "<Figure size 390.135x216 with 1 Axes>"
      ]
     },
     "metadata": {
      "needs_background": "light"
     },
     "output_type": "display_data"
    }
   ],
   "source": [
    "import seaborn as sb\n",
    "ctd_prof_clust['depth'] = -ctd_prof_clust['depth']\n",
    "\n",
    "fg = sb.FacetGrid(data=ctd_prof_clust, hue='pop', aspect=1.61, palette=[\"#e41a1c\", \"#377eb8\", \"#4daf4a\", \"#984ea3\"])\n",
    "fg.map(plt.scatter, 'fluo_470', 'depth').add_legend()"
   ]
  }
 ],
 "metadata": {
  "interpreter": {
   "hash": "943ed34171d39dfc5963e092ee45c4defab27804e5d0efd9eadec1d198338c10"
  },
  "kernelspec": {
   "display_name": "Python 3.10.4 64-bit",
   "language": "python",
   "name": "python3"
  },
  "language_info": {
   "codemirror_mode": {
    "name": "ipython",
    "version": 3
   },
   "file_extension": ".py",
   "mimetype": "text/x-python",
   "name": "python",
   "nbconvert_exporter": "python",
   "pygments_lexer": "ipython3",
   "version": "3.10.4"
  },
  "orig_nbformat": 4
 },
 "nbformat": 4,
 "nbformat_minor": 2
}
