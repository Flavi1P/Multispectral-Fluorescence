{
 "cells": [
  {
   "cell_type": "markdown",
   "metadata": {},
   "source": [
    "# SVC with in-situ data\n",
    "<br/>\n",
    "We will use here the same method as in \"svc_lab\" notebook. The model will be train to predict the clusters defined in the \"hplc_cluster\" notebook. <br/> The dataset is  hplc_mfclusterised."
   ]
  },
  {
   "cell_type": "code",
   "execution_count": 1,
   "metadata": {},
   "outputs": [
    {
     "name": "stdout",
     "output_type": "stream",
     "text": [
      "The original data has 86 samples.\n"
     ]
    }
   ],
   "source": [
    "import pandas as pd \n",
    "\n",
    "data = pd.read_csv(\"C:\\\\Users\\petit\\Documents\\These\\Multispectral-Fluorescence\\Boussole\\Output\\Data\\Compiled\\ml_dataset.csv\")\n",
    "\n",
    "print(\n",
    "    f\"The original data has \"\n",
    "    f\"{len(data)} samples.\")"
   ]
  },
  {
   "cell_type": "markdown",
   "metadata": {},
   "source": [
    "Select the descriptors (f440/f470 and f532/f47) and the target variable (the cluster)."
   ]
  },
  {
   "cell_type": "code",
   "execution_count": 2,
   "metadata": {},
   "outputs": [
    {
     "data": {
      "text/html": [
       "<div>\n",
       "<style scoped>\n",
       "    .dataframe tbody tr th:only-of-type {\n",
       "        vertical-align: middle;\n",
       "    }\n",
       "\n",
       "    .dataframe tbody tr th {\n",
       "        vertical-align: top;\n",
       "    }\n",
       "\n",
       "    .dataframe thead th {\n",
       "        text-align: right;\n",
       "    }\n",
       "</style>\n",
       "<table border=\"1\" class=\"dataframe\">\n",
       "  <thead>\n",
       "    <tr style=\"text-align: right;\">\n",
       "      <th></th>\n",
       "      <th>bouss</th>\n",
       "      <th>depth</th>\n",
       "      <th>fluo_440</th>\n",
       "      <th>fluo_470</th>\n",
       "      <th>fluo_532</th>\n",
       "      <th>cp</th>\n",
       "      <th>f440_f470</th>\n",
       "      <th>f532_f470</th>\n",
       "      <th>cluster</th>\n",
       "      <th>bb700</th>\n",
       "    </tr>\n",
       "  </thead>\n",
       "  <tbody>\n",
       "    <tr>\n",
       "      <th>0</th>\n",
       "      <td>225</td>\n",
       "      <td>80</td>\n",
       "      <td>20.648569</td>\n",
       "      <td>26.128788</td>\n",
       "      <td>2.658249</td>\n",
       "      <td>0.077227</td>\n",
       "      <td>0.790261</td>\n",
       "      <td>0.746067</td>\n",
       "      <td>0</td>\n",
       "      <td>657.553626</td>\n",
       "    </tr>\n",
       "    <tr>\n",
       "      <th>1</th>\n",
       "      <td>225</td>\n",
       "      <td>70</td>\n",
       "      <td>21.123352</td>\n",
       "      <td>28.637476</td>\n",
       "      <td>2.979441</td>\n",
       "      <td>0.085750</td>\n",
       "      <td>0.737612</td>\n",
       "      <td>0.762960</td>\n",
       "      <td>0</td>\n",
       "      <td>642.401948</td>\n",
       "    </tr>\n",
       "    <tr>\n",
       "      <th>2</th>\n",
       "      <td>225</td>\n",
       "      <td>60</td>\n",
       "      <td>29.506494</td>\n",
       "      <td>42.462482</td>\n",
       "      <td>4.940837</td>\n",
       "      <td>0.109080</td>\n",
       "      <td>0.694884</td>\n",
       "      <td>0.853290</td>\n",
       "      <td>0</td>\n",
       "      <td>803.184254</td>\n",
       "    </tr>\n",
       "    <tr>\n",
       "      <th>3</th>\n",
       "      <td>225</td>\n",
       "      <td>50</td>\n",
       "      <td>37.133333</td>\n",
       "      <td>48.125000</td>\n",
       "      <td>4.688406</td>\n",
       "      <td>0.126257</td>\n",
       "      <td>0.771602</td>\n",
       "      <td>0.714424</td>\n",
       "      <td>0</td>\n",
       "      <td>1013.042416</td>\n",
       "    </tr>\n",
       "    <tr>\n",
       "      <th>4</th>\n",
       "      <td>225</td>\n",
       "      <td>40</td>\n",
       "      <td>42.079621</td>\n",
       "      <td>51.837036</td>\n",
       "      <td>4.922410</td>\n",
       "      <td>0.129473</td>\n",
       "      <td>0.811767</td>\n",
       "      <td>0.696368</td>\n",
       "      <td>0</td>\n",
       "      <td>1073.093134</td>\n",
       "    </tr>\n",
       "  </tbody>\n",
       "</table>\n",
       "</div>"
      ],
      "text/plain": [
       "   bouss  depth   fluo_440   fluo_470  fluo_532        cp  f440_f470  \\\n",
       "0    225     80  20.648569  26.128788  2.658249  0.077227   0.790261   \n",
       "1    225     70  21.123352  28.637476  2.979441  0.085750   0.737612   \n",
       "2    225     60  29.506494  42.462482  4.940837  0.109080   0.694884   \n",
       "3    225     50  37.133333  48.125000  4.688406  0.126257   0.771602   \n",
       "4    225     40  42.079621  51.837036  4.922410  0.129473   0.811767   \n",
       "\n",
       "   f532_f470  cluster        bb700  \n",
       "0   0.746067        0   657.553626  \n",
       "1   0.762960        0   642.401948  \n",
       "2   0.853290        0   803.184254  \n",
       "3   0.714424        0  1013.042416  \n",
       "4   0.696368        0  1073.093134  "
      ]
     },
     "execution_count": 2,
     "metadata": {},
     "output_type": "execute_result"
    }
   ],
   "source": [
    "descriptors = data[[\"f440_f470\", \"f532_f470\"]]\n",
    "target = data[\"cluster\"]\n",
    "\n",
    "data.head()"
   ]
  },
  {
   "cell_type": "markdown",
   "metadata": {},
   "source": [
    "Let's check the distribution of the samples in the f440_f470; f532_f470 space."
   ]
  },
  {
   "cell_type": "code",
   "execution_count": 3,
   "metadata": {},
   "outputs": [],
   "source": [
    "#use the bbp to erase the chla effect\n",
    "data = data.assign(f440_bbp = lambda x: x['fluo_440']/x['bb700'],\n",
    "                f470_bbp= lambda x: x['fluo_470']/x['bb700'],\n",
    "                f532_bbp = lambda x: x['fluo_532']/x['bb700'],\n",
    "                f532_cp = lambda x: x['fluo_532']/x['cp'],\n",
    "                f440_cp = lambda x: x['fluo_440']/x['cp'],\n",
    "                f470_cp = lambda x: x['fluo_470']/x['cp'],\n",
    "                f440b_f470b = lambda x: x['f440_bbp']/x['f470_bbp'],\n",
    "                f532b_f470b = lambda x: x['f532_bbp']/x['f470_bbp'],\n",
    "                f532_f440 = lambda x: x['fluo_532']/x['fluo_440'],\n",
    "                bbp_cp = lambda x: x['bb700']/x['cp'])"
   ]
  },
  {
   "cell_type": "code",
   "execution_count": 4,
   "metadata": {},
   "outputs": [],
   "source": [
    "from imblearn.over_sampling import RandomOverSampler\n",
    "from imblearn.over_sampling import SMOTE\n",
    "from collections import Counter\n",
    "\n",
    "full_descriptors = data[[\"f440_f470\", \"f532_f470\", \"bbp_cp\", \"f440_bbp\", \"f470_bbp\", \"f532_bbp\", \"f440_cp\", \"f470_cp\"]]\n",
    "\n",
    "ros = RandomOverSampler()\n",
    "#X_resampled, y_resampled = ros.fit_resample(new_descriptors, target)\n",
    "X_full, y_full = SMOTE().fit_resample(full_descriptors, target)\n"
   ]
  },
  {
   "cell_type": "code",
   "execution_count": 5,
   "metadata": {},
   "outputs": [],
   "source": [
    "from sklearn.ensemble import GradientBoostingClassifier\n",
    "from sklearn.model_selection import cross_validate\n",
    "\n",
    "gradient_boosting = GradientBoostingClassifier()"
   ]
  },
  {
   "cell_type": "code",
   "execution_count": null,
   "metadata": {},
   "outputs": [],
   "source": [
    "from sklearn.model_selection import GridSearchCV\n",
    "from sklearn.model_selection import StratifiedKFold\n",
    "from sklearn.model_selection import StratifiedShuffleSplit\n",
    "import numpy as np\n",
    "\n",
    "\n",
    "parameters_hgb = {\n",
    "    \"loss\":[\"deviance\"],\n",
    "    \"learning_rate\": [0.075, 0.1, 0.15, 0.2],\n",
    "    \"min_samples_leaf\": np.linspace(0.1, 0.5, 3),\n",
    "    \"max_features\":[None],\n",
    "    \"criterion\": [\"friedman_mse\"],\n",
    "    \"max_depth\": [2, 4, 6],\n",
    "    \"subsample\":[0.85, 0.9, 0.95],\n",
    "    \"n_estimators\":[500, 650, 750]\n",
    "    }\n",
    "\n",
    "cv = StratifiedShuffleSplit(n_splits=10)\n",
    "\n",
    "grid_search_hgb = GridSearchCV(estimator = gradient_boosting,\n",
    "                           param_grid = parameters_hgb,\n",
    "                           scoring = 'accuracy',\n",
    "                           cv = cv,\n",
    "                           n_jobs = 2,\n",
    "                           verbose = 10)\n",
    "grid_search_hgb.fit(X_full, y_full)\n",
    "best_accuracy_hgb = grid_search_hgb.best_score_\n",
    "best_paramaeter_hgb = grid_search_hgb.best_params_\n",
    "print(\"Best Accuracy of HGB: {:.2f} %\".format(best_accuracy_hgb.mean()*100))\n",
    "print(\"Best Parameter of HGB:\", best_paramaeter_hgb) "
   ]
  },
  {
   "cell_type": "code",
   "execution_count": 6,
   "metadata": {},
   "outputs": [],
   "source": [
    "from sklearn.ensemble import GradientBoostingClassifier\n",
    "from sklearn.model_selection import cross_validate\n",
    "\n",
    "gradient_boosting = GradientBoostingClassifier()\n",
    "\n",
    "best_params =  {'criterion': 'friedman_mse',\n",
    "    'learning_rate': 0.1,\n",
    "    'loss': 'log_loss',\n",
    "    'max_depth': 4,\n",
    "    'max_features': None,\n",
    "    'min_samples_leaf': 0.1,\n",
    "    'n_estimators': 500,\n",
    "    'subsample': 0.9}\n",
    "new_hgb = gradient_boosting.set_params(**best_params)\n"
   ]
  },
  {
   "cell_type": "code",
   "execution_count": 7,
   "metadata": {},
   "outputs": [
    {
     "data": {
      "text/html": [
       "<style>#sk-container-id-1 {color: black;background-color: white;}#sk-container-id-1 pre{padding: 0;}#sk-container-id-1 div.sk-toggleable {background-color: white;}#sk-container-id-1 label.sk-toggleable__label {cursor: pointer;display: block;width: 100%;margin-bottom: 0;padding: 0.3em;box-sizing: border-box;text-align: center;}#sk-container-id-1 label.sk-toggleable__label-arrow:before {content: \"▸\";float: left;margin-right: 0.25em;color: #696969;}#sk-container-id-1 label.sk-toggleable__label-arrow:hover:before {color: black;}#sk-container-id-1 div.sk-estimator:hover label.sk-toggleable__label-arrow:before {color: black;}#sk-container-id-1 div.sk-toggleable__content {max-height: 0;max-width: 0;overflow: hidden;text-align: left;background-color: #f0f8ff;}#sk-container-id-1 div.sk-toggleable__content pre {margin: 0.2em;color: black;border-radius: 0.25em;background-color: #f0f8ff;}#sk-container-id-1 input.sk-toggleable__control:checked~div.sk-toggleable__content {max-height: 200px;max-width: 100%;overflow: auto;}#sk-container-id-1 input.sk-toggleable__control:checked~label.sk-toggleable__label-arrow:before {content: \"▾\";}#sk-container-id-1 div.sk-estimator input.sk-toggleable__control:checked~label.sk-toggleable__label {background-color: #d4ebff;}#sk-container-id-1 div.sk-label input.sk-toggleable__control:checked~label.sk-toggleable__label {background-color: #d4ebff;}#sk-container-id-1 input.sk-hidden--visually {border: 0;clip: rect(1px 1px 1px 1px);clip: rect(1px, 1px, 1px, 1px);height: 1px;margin: -1px;overflow: hidden;padding: 0;position: absolute;width: 1px;}#sk-container-id-1 div.sk-estimator {font-family: monospace;background-color: #f0f8ff;border: 1px dotted black;border-radius: 0.25em;box-sizing: border-box;margin-bottom: 0.5em;}#sk-container-id-1 div.sk-estimator:hover {background-color: #d4ebff;}#sk-container-id-1 div.sk-parallel-item::after {content: \"\";width: 100%;border-bottom: 1px solid gray;flex-grow: 1;}#sk-container-id-1 div.sk-label:hover label.sk-toggleable__label {background-color: #d4ebff;}#sk-container-id-1 div.sk-serial::before {content: \"\";position: absolute;border-left: 1px solid gray;box-sizing: border-box;top: 0;bottom: 0;left: 50%;z-index: 0;}#sk-container-id-1 div.sk-serial {display: flex;flex-direction: column;align-items: center;background-color: white;padding-right: 0.2em;padding-left: 0.2em;position: relative;}#sk-container-id-1 div.sk-item {position: relative;z-index: 1;}#sk-container-id-1 div.sk-parallel {display: flex;align-items: stretch;justify-content: center;background-color: white;position: relative;}#sk-container-id-1 div.sk-item::before, #sk-container-id-1 div.sk-parallel-item::before {content: \"\";position: absolute;border-left: 1px solid gray;box-sizing: border-box;top: 0;bottom: 0;left: 50%;z-index: -1;}#sk-container-id-1 div.sk-parallel-item {display: flex;flex-direction: column;z-index: 1;position: relative;background-color: white;}#sk-container-id-1 div.sk-parallel-item:first-child::after {align-self: flex-end;width: 50%;}#sk-container-id-1 div.sk-parallel-item:last-child::after {align-self: flex-start;width: 50%;}#sk-container-id-1 div.sk-parallel-item:only-child::after {width: 0;}#sk-container-id-1 div.sk-dashed-wrapped {border: 1px dashed gray;margin: 0 0.4em 0.5em 0.4em;box-sizing: border-box;padding-bottom: 0.4em;background-color: white;}#sk-container-id-1 div.sk-label label {font-family: monospace;font-weight: bold;display: inline-block;line-height: 1.2em;}#sk-container-id-1 div.sk-label-container {text-align: center;}#sk-container-id-1 div.sk-container {/* jupyter's `normalize.less` sets `[hidden] { display: none; }` but bootstrap.min.css set `[hidden] { display: none !important; }` so we also need the `!important` here to be able to override the default hidden behavior on the sphinx rendered scikit-learn.org. See: https://github.com/scikit-learn/scikit-learn/issues/21755 */display: inline-block !important;position: relative;}#sk-container-id-1 div.sk-text-repr-fallback {display: none;}</style><div id=\"sk-container-id-1\" class=\"sk-top-container\"><div class=\"sk-text-repr-fallback\"><pre>GradientBoostingClassifier(max_depth=4, min_samples_leaf=0.1, n_estimators=500,\n",
       "                           subsample=0.9)</pre><b>In a Jupyter environment, please rerun this cell to show the HTML representation or trust the notebook. <br />On GitHub, the HTML representation is unable to render, please try loading this page with nbviewer.org.</b></div><div class=\"sk-container\" hidden><div class=\"sk-item\"><div class=\"sk-estimator sk-toggleable\"><input class=\"sk-toggleable__control sk-hidden--visually\" id=\"sk-estimator-id-1\" type=\"checkbox\" checked><label for=\"sk-estimator-id-1\" class=\"sk-toggleable__label sk-toggleable__label-arrow\">GradientBoostingClassifier</label><div class=\"sk-toggleable__content\"><pre>GradientBoostingClassifier(max_depth=4, min_samples_leaf=0.1, n_estimators=500,\n",
       "                           subsample=0.9)</pre></div></div></div></div></div>"
      ],
      "text/plain": [
       "GradientBoostingClassifier(max_depth=4, min_samples_leaf=0.1, n_estimators=500,\n",
       "                           subsample=0.9)"
      ]
     },
     "execution_count": 7,
     "metadata": {},
     "output_type": "execute_result"
    }
   ],
   "source": [
    "from sklearn.feature_selection import SelectFromModel\n",
    "gradient_boosting.fit(X_full, y_full)\n"
   ]
  },
  {
   "cell_type": "code",
   "execution_count": 8,
   "metadata": {},
   "outputs": [
    {
     "data": {
      "image/png": "[encoded data removed]",
      "text/plain": [
       "<Figure size 432x288 with 1 Axes>"
      ]
     },
     "metadata": {
      "needs_background": "light"
     },
     "output_type": "display_data"
    }
   ],
   "source": [
    "import matplotlib.pyplot as plt\n",
    "model = SelectFromModel(gradient_boosting, prefit=True)\n",
    "importances = gradient_boosting.feature_importances_\n",
    "\n",
    "feature_names = [\"f440_f470\", \"f532_f470\", \"bbp_cp\", \"f440_bbp\", \"f470_bbp\", \"f532_bbp\", \"f440_cp\", \"f470_cp\"]\n",
    "\n",
    "forest_importances = pd.Series(importances, index=feature_names)\n",
    "\n",
    "fig, ax = plt.subplots()\n",
    "forest_importances.sort_values(ascending = False).plot.bar(ax = ax)\n",
    "ax.set_title(\"Feature importances using MDI\")\n",
    "ax.set_ylabel(\"Mean decrease in impurity\")\n",
    "fig.tight_layout()\n",
    "fig.savefig(\"C:\\\\Users\\petit\\Documents\\These\\Multispectral-Fluorescence\\Boussole\\Output\\Plots\\impurity2.png\", dpi = 300, bbox_inches='tight')"
   ]
  },
  {
   "cell_type": "code",
   "execution_count": 9,
   "metadata": {},
   "outputs": [
    {
     "data": {
      "text/plain": [
       "f440_f470    0.195584\n",
       "f532_f470    0.193940\n",
       "bbp_cp       0.238061\n",
       "f440_bbp     0.074949\n",
       "f470_bbp     0.079870\n",
       "f532_bbp     0.088566\n",
       "f440_cp      0.070594\n",
       "f470_cp      0.058436\n",
       "dtype: float64"
      ]
     },
     "execution_count": 9,
     "metadata": {},
     "output_type": "execute_result"
    }
   ],
   "source": [
    "pd.Series(importances, index=feature_names)"
   ]
  },
  {
   "cell_type": "code",
   "execution_count": 12,
   "metadata": {},
   "outputs": [
    {
     "name": "stdout",
     "output_type": "stream",
     "text": [
      "here is the significant parameters : Index(['f440_f470', 'f532_f470', 'bbp_cp', 'f440_bbp', 'f470_bbp', 'f532_bbp',\n",
      "       'f440_cp', 'f470_cp'],\n",
      "      dtype='object')\n",
      "[(0, 32), (1, 32), (2, 32), (3, 32)]\n"
     ]
    }
   ],
   "source": [
    "test = forest_importances[forest_importances > 0.05]\n",
    "\n",
    "print(\"here is the significant parameters :\", test.index)\n",
    "\n",
    "new_descriptors = data[[\"f440_f470\", \"f532_f470\", \"bbp_cp\", \"f440_bbp\", \"f470_bbp\", \"f532_bbp\", \"f440_cp\", \"f470_cp\"]]\n",
    "no_cp = data[[\"f440_f470\", \"f532_f470\", \"f440_bbp\", \"f470_bbp\", \"f532_bbp\"]]\n",
    "no_532 = data[[\"f440_f470\", \"bbp_cp\", \"f440_bbp\", \"f470_bbp\", \"f440_cp\", \"f470_cp\"]]\n",
    "no_cp_no_532 = data[[\"f440_f470\", \"f440_bbp\", \"f470_bbp\"]]\n",
    "no_bbp_no_cp_no_532 = data[[\"f440_f470\"]]\n",
    "no_440 = data[[\"f532_f470\", \"bbp_cp\", \"f470_bbp\", \"f532_bbp\", \"f470_cp\"]]\n",
    "only_mf = data[[\"f440_f470\", \"f532_f470\"]]\n",
    "\n",
    "\n",
    "ros = RandomOverSampler()\n",
    "#X_resampled, y_resampled = ros.fit_resample(new_descriptors, target)\n",
    "X_resampled, y_resampled = SMOTE().fit_resample(new_descriptors, target)\n",
    "X_no_cp, y_resampled = SMOTE().fit_resample(no_cp, target)\n",
    "X_no_532, y_resampled = SMOTE().fit_resample(no_532, target)\n",
    "X_no_cp_no_532, y_resampled = SMOTE().fit_resample(no_cp_no_532, target)\n",
    "X_no_bbp_no_cp_no_532, y_resampled = SMOTE().fit_resample(no_bbp_no_cp_no_532, target)\n",
    "X_oligo, y_resampled = SMOTE().fit_resample(no_440, target)\n",
    "X_only_mf, y_resampled = SMOTE().fit_resample(only_mf, target)\n",
    "\n",
    "print(sorted(Counter(y_resampled).items()))"
   ]
  },
  {
   "cell_type": "code",
   "execution_count": 13,
   "metadata": {},
   "outputs": [
    {
     "data": {
      "text/html": [
       "<div>\n",
       "<style scoped>\n",
       "    .dataframe tbody tr th:only-of-type {\n",
       "        vertical-align: middle;\n",
       "    }\n",
       "\n",
       "    .dataframe tbody tr th {\n",
       "        vertical-align: top;\n",
       "    }\n",
       "\n",
       "    .dataframe thead th {\n",
       "        text-align: right;\n",
       "    }\n",
       "</style>\n",
       "<table border=\"1\" class=\"dataframe\">\n",
       "  <thead>\n",
       "    <tr style=\"text-align: right;\">\n",
       "      <th></th>\n",
       "      <th>f440_f470</th>\n",
       "      <th>f532_f470</th>\n",
       "      <th>bbp_cp</th>\n",
       "      <th>f440_bbp</th>\n",
       "      <th>f470_bbp</th>\n",
       "      <th>f532_bbp</th>\n",
       "      <th>f440_cp</th>\n",
       "      <th>f470_cp</th>\n",
       "    </tr>\n",
       "  </thead>\n",
       "  <tbody>\n",
       "    <tr>\n",
       "      <th>count</th>\n",
       "      <td>128.000000</td>\n",
       "      <td>128.000000</td>\n",
       "      <td>128.000000</td>\n",
       "      <td>128.000000</td>\n",
       "      <td>128.000000</td>\n",
       "      <td>128.000000</td>\n",
       "      <td>128.000000</td>\n",
       "      <td>128.000000</td>\n",
       "    </tr>\n",
       "    <tr>\n",
       "      <th>mean</th>\n",
       "      <td>0.978058</td>\n",
       "      <td>1.094962</td>\n",
       "      <td>7365.505008</td>\n",
       "      <td>0.047638</td>\n",
       "      <td>0.061615</td>\n",
       "      <td>0.006148</td>\n",
       "      <td>339.352688</td>\n",
       "      <td>437.290728</td>\n",
       "    </tr>\n",
       "    <tr>\n",
       "      <th>std</th>\n",
       "      <td>1.001348</td>\n",
       "      <td>1.202865</td>\n",
       "      <td>2762.437579</td>\n",
       "      <td>0.030698</td>\n",
       "      <td>0.043080</td>\n",
       "      <td>0.003355</td>\n",
       "      <td>240.302501</td>\n",
       "      <td>322.723424</td>\n",
       "    </tr>\n",
       "    <tr>\n",
       "      <th>min</th>\n",
       "      <td>0.557068</td>\n",
       "      <td>0.368262</td>\n",
       "      <td>3679.000047</td>\n",
       "      <td>0.004211</td>\n",
       "      <td>0.002070</td>\n",
       "      <td>0.001216</td>\n",
       "      <td>31.299746</td>\n",
       "      <td>15.391041</td>\n",
       "    </tr>\n",
       "    <tr>\n",
       "      <th>25%</th>\n",
       "      <td>0.722460</td>\n",
       "      <td>0.647720</td>\n",
       "      <td>6143.561769</td>\n",
       "      <td>0.024275</td>\n",
       "      <td>0.032462</td>\n",
       "      <td>0.003773</td>\n",
       "      <td>183.600054</td>\n",
       "      <td>235.415092</td>\n",
       "    </tr>\n",
       "    <tr>\n",
       "      <th>50%</th>\n",
       "      <td>0.779848</td>\n",
       "      <td>0.727411</td>\n",
       "      <td>7014.590046</td>\n",
       "      <td>0.039315</td>\n",
       "      <td>0.048420</td>\n",
       "      <td>0.005084</td>\n",
       "      <td>297.021041</td>\n",
       "      <td>372.694525</td>\n",
       "    </tr>\n",
       "    <tr>\n",
       "      <th>75%</th>\n",
       "      <td>0.824266</td>\n",
       "      <td>1.003792</td>\n",
       "      <td>7788.399631</td>\n",
       "      <td>0.058437</td>\n",
       "      <td>0.082086</td>\n",
       "      <td>0.008197</td>\n",
       "      <td>427.431388</td>\n",
       "      <td>553.699063</td>\n",
       "    </tr>\n",
       "    <tr>\n",
       "      <th>max</th>\n",
       "      <td>8.232984</td>\n",
       "      <td>8.675062</td>\n",
       "      <td>22381.817012</td>\n",
       "      <td>0.155853</td>\n",
       "      <td>0.224920</td>\n",
       "      <td>0.017679</td>\n",
       "      <td>1705.947121</td>\n",
       "      <td>2178.754104</td>\n",
       "    </tr>\n",
       "  </tbody>\n",
       "</table>\n",
       "</div>"
      ],
      "text/plain": [
       "        f440_f470   f532_f470        bbp_cp    f440_bbp    f470_bbp  \\\n",
       "count  128.000000  128.000000    128.000000  128.000000  128.000000   \n",
       "mean     0.978058    1.094962   7365.505008    0.047638    0.061615   \n",
       "std      1.001348    1.202865   2762.437579    0.030698    0.043080   \n",
       "min      0.557068    0.368262   3679.000047    0.004211    0.002070   \n",
       "25%      0.722460    0.647720   6143.561769    0.024275    0.032462   \n",
       "50%      0.779848    0.727411   7014.590046    0.039315    0.048420   \n",
       "75%      0.824266    1.003792   7788.399631    0.058437    0.082086   \n",
       "max      8.232984    8.675062  22381.817012    0.155853    0.224920   \n",
       "\n",
       "         f532_bbp      f440_cp      f470_cp  \n",
       "count  128.000000   128.000000   128.000000  \n",
       "mean     0.006148   339.352688   437.290728  \n",
       "std      0.003355   240.302501   322.723424  \n",
       "min      0.001216    31.299746    15.391041  \n",
       "25%      0.003773   183.600054   235.415092  \n",
       "50%      0.005084   297.021041   372.694525  \n",
       "75%      0.008197   427.431388   553.699063  \n",
       "max      0.017679  1705.947121  2178.754104  "
      ]
     },
     "execution_count": 13,
     "metadata": {},
     "output_type": "execute_result"
    }
   ],
   "source": [
    "X_resampled.describe()"
   ]
  },
  {
   "cell_type": "code",
   "execution_count": 14,
   "metadata": {},
   "outputs": [],
   "source": [
    "from sklearn.model_selection import train_test_split\n",
    "X_train, X_test, y_train, y_test = train_test_split(X_resampled, y_resampled, test_size =0.3, stratify = y_resampled, random_state=0)\n",
    "X_train_no_cp, X_test_no_cp, y_train, y_test = train_test_split(X_no_cp, y_resampled, test_size =0.3, stratify = y_resampled, random_state=0)\n",
    "X_train_no_532, X_test_no_532, y_train, y_test = train_test_split(X_no_532, y_resampled, test_size =0.3, stratify = y_resampled, random_state=0)\n",
    "X_train_no_cp_no_532, X_test_no_cp_no_532, y_train, y_test = train_test_split(X_no_cp_no_532, y_resampled, test_size =0.3, stratify = y_resampled, random_state=0)\n",
    "X_train_no_bbp_no_cp_no_532, X_test_no_bbp_no_cp_no_532, y_train, y_test = train_test_split(X_no_bbp_no_cp_no_532, y_resampled, test_size =0.3, stratify = y_resampled, random_state=0)\n",
    "X_train_only_mf, X_test_only_mf, y_train, y_test = train_test_split(X_only_mf, y_resampled, test_size =0.3, stratify = y_resampled, random_state=0)\n",
    "X_train_oligo, X_test_oligo, y_train, y_test = train_test_split(X_oligo, y_resampled, test_size =0.3, stratify = y_resampled, random_state=0)\n"
   ]
  },
  {
   "cell_type": "code",
   "execution_count": 15,
   "metadata": {},
   "outputs": [],
   "source": [
    "#histogram boosting gradient classifer\n",
    "\n",
    "new_hgb.fit(X_train,y_train)\n",
    "y_pred_hgb = new_hgb.predict(X_test)\n",
    "\n",
    "new_hgb.fit(X_train_no_cp,y_train)\n",
    "y_pred_no_cp = new_hgb.predict(X_test_no_cp)\n",
    "\n",
    "new_hgb.fit(X_train_no_532,y_train)\n",
    "y_pred_no_532 = new_hgb.predict(X_test_no_532)\n",
    "\n",
    "new_hgb.fit(X_train_no_cp_no_532,y_train)\n",
    "y_pred_no_cp_no_532 = new_hgb.predict(X_test_no_cp_no_532)\n",
    "\n",
    "new_hgb.fit(X_train_no_bbp_no_cp_no_532,y_train)\n",
    "y_pred_no_bbp_no_cp_no_532 = new_hgb.predict(X_test_no_bbp_no_cp_no_532)\n",
    "\n",
    "new_hgb.fit(X_train_only_mf, y_train)\n",
    "y_pred_only_mf = new_hgb.predict(X_test_only_mf)\n",
    "\n",
    "new_hgb.fit(X_train_oligo, y_train)\n",
    "y_pred_oligo = new_hgb.predict(X_test_oligo)\n",
    "\n"
   ]
  },
  {
   "cell_type": "code",
   "execution_count": 16,
   "metadata": {},
   "outputs": [
    {
     "data": {
      "text/plain": [
       "Text(0.5, 1.0, 'Confusion Matrix of the Cross Validation using HGB')"
      ]
     },
     "execution_count": 16,
     "metadata": {},
     "output_type": "execute_result"
    },
    {
     "data": {
      "image/png": "[encoded data removed]",
      "text/plain": [
       "<Figure size 432x288 with 1 Axes>"
      ]
     },
     "metadata": {
      "needs_background": "light"
     },
     "output_type": "display_data"
    }
   ],
   "source": [
    "from sklearn.metrics import confusion_matrix, accuracy_score, roc_auc_score\n",
    "cm_hgb = confusion_matrix(y_test, y_pred_hgb)\n",
    "\n",
    "#Plot the confusion Matrix\n",
    "import matplotlib.pyplot as plt\n",
    "import seaborn as sns\n",
    "\n",
    "ax = sns.heatmap(cm_hgb, linewidths = 0.5, cmap = \"viridis\", annot = cm_hgb, cbar = False)\n",
    "ax.set_xticks([0.5, 1.5, 2.5])\n",
    "ax.set_yticks([0.5, 1.5, 2.5])\n",
    "ax.set_xticklabels(['1','2','3'])\n",
    "ax.set_yticklabels(['1', '2', '3'])\n",
    "plt.xlabel(\"Predicted\")\n",
    "plt.ylabel(\"Observed\")\n",
    "plt.title('Confusion Matrix of the Cross Validation using HGB', fontdict={'fontsize': 16, 'fontweight': 'medium'})"
   ]
  },
  {
   "cell_type": "code",
   "execution_count": 17,
   "metadata": {},
   "outputs": [
    {
     "name": "stdout",
     "output_type": "stream",
     "text": [
      "Precision: [0.75       0.58333333 0.77777778 0.5       ]\n",
      "Recall: [0.6        0.7        0.77777778 0.5       ]\n"
     ]
    }
   ],
   "source": [
    "from sklearn.metrics import precision_score\n",
    "from sklearn.metrics import recall_score\n",
    "# Model Precision: what percentage of positive tuples are labeled as such?\n",
    "print(\"Precision:\",precision_score(y_test, y_pred_hgb, average = None))\n",
    "\n",
    "# Model Recall: what percentage of positive tuples are labelled as such?\n",
    "print(\"Recall:\",recall_score(y_test, y_pred_hgb, average = None))"
   ]
  },
  {
   "cell_type": "code",
   "execution_count": 18,
   "metadata": {},
   "outputs": [
    {
     "data": {
      "text/plain": [
       "Text(0.5, 1.0, 'Confusion Matrix of the Cross Validation using HGB')"
      ]
     },
     "execution_count": 18,
     "metadata": {},
     "output_type": "execute_result"
    },
    {
     "data": {
      "image/png": "[encoded data removed]",
      "text/plain": [
       "<Figure size 432x288 with 1 Axes>"
      ]
     },
     "metadata": {
      "needs_background": "light"
     },
     "output_type": "display_data"
    }
   ],
   "source": [
    "from sklearn.metrics import confusion_matrix, accuracy_score, roc_auc_score\n",
    "cm_hgb = confusion_matrix(y_test, y_pred_no_cp)\n",
    "\n",
    "#Plot the confusion Matrix\n",
    "import matplotlib.pyplot as plt\n",
    "import seaborn as sns\n",
    "\n",
    "ax = sns.heatmap(cm_hgb, linewidths = 0.5, cmap = \"viridis\", annot = cm_hgb, cbar = False)\n",
    "ax.set_xticks([0.5, 1.5, 2.5])\n",
    "ax.set_yticks([0.5, 1.5, 2.5])\n",
    "ax.set_xticklabels(['1','2','3'])\n",
    "ax.set_yticklabels(['1', '2', '3'])\n",
    "plt.xlabel(\"Predicted\")\n",
    "plt.ylabel(\"Observed\")\n",
    "plt.title('Confusion Matrix of the Cross Validation using HGB', fontdict={'fontsize': 16, 'fontweight': 'medium'})"
   ]
  },
  {
   "cell_type": "code",
   "execution_count": 19,
   "metadata": {},
   "outputs": [
    {
     "data": {
      "text/plain": [
       "Text(0.5, 1.0, 'Confusion Matrix of the Cross Validation using HGB')"
      ]
     },
     "execution_count": 19,
     "metadata": {},
     "output_type": "execute_result"
    },
    {
     "data": {
      "image/png": "[encoded data removed]",
      "text/plain": [
       "<Figure size 432x288 with 1 Axes>"
      ]
     },
     "metadata": {
      "needs_background": "light"
     },
     "output_type": "display_data"
    }
   ],
   "source": [
    "from sklearn.metrics import confusion_matrix, accuracy_score, roc_auc_score\n",
    "cm_hgb = confusion_matrix(y_test, y_pred_no_cp_no_532)\n",
    "\n",
    "#Plot the confusion Matrix\n",
    "import matplotlib.pyplot as plt\n",
    "import seaborn as sns\n",
    "\n",
    "ax = sns.heatmap(cm_hgb, linewidths = 0.5, cmap = \"viridis\", annot = cm_hgb, cbar = False)\n",
    "ax.set_xticks([0.5, 1.5, 2.5])\n",
    "ax.set_yticks([0.5, 1.5, 2.5])\n",
    "ax.set_xticklabels(['1','2','3'])\n",
    "ax.set_yticklabels(['1', '2', '3'])\n",
    "plt.xlabel(\"Predicted\")\n",
    "plt.ylabel(\"Observed\")\n",
    "plt.title('Confusion Matrix of the Cross Validation using HGB', fontdict={'fontsize': 16, 'fontweight': 'medium'})"
   ]
  },
  {
   "cell_type": "code",
   "execution_count": 20,
   "metadata": {},
   "outputs": [
    {
     "data": {
      "text/plain": [
       "Text(0.5, 1.0, 'Confusion Matrix of the Cross Validation using HGB')"
      ]
     },
     "execution_count": 20,
     "metadata": {},
     "output_type": "execute_result"
    },
    {
     "data": {
      "image/png": "[encoded data removed]",
      "text/plain": [
       "<Figure size 432x288 with 1 Axes>"
      ]
     },
     "metadata": {
      "needs_background": "light"
     },
     "output_type": "display_data"
    }
   ],
   "source": [
    "from sklearn.metrics import confusion_matrix, accuracy_score, roc_auc_score\n",
    "cm_hgb = confusion_matrix(y_test, y_pred_no_bbp_no_cp_no_532)\n",
    "\n",
    "#Plot the confusion Matrix\n",
    "import matplotlib.pyplot as plt\n",
    "import seaborn as sns\n",
    "\n",
    "ax = sns.heatmap(cm_hgb, linewidths = 0.5, cmap = \"viridis\", annot = cm_hgb, cbar = False)\n",
    "ax.set_xticks([0.5, 1.5, 2.5])\n",
    "ax.set_yticks([0.5, 1.5, 2.5])\n",
    "ax.set_xticklabels(['1','2','3'])\n",
    "ax.set_yticklabels(['1', '2', '3'])\n",
    "plt.xlabel(\"Predicted\")\n",
    "plt.ylabel(\"Observed\")\n",
    "plt.title('Confusion Matrix of the Cross Validation using HGB', fontdict={'fontsize': 16, 'fontweight': 'medium'})"
   ]
  },
  {
   "cell_type": "code",
   "execution_count": 21,
   "metadata": {},
   "outputs": [
    {
     "data": {
      "text/plain": [
       "Text(0.5, 1.0, 'Confusion Matrix of the Cross Validation using HGB')"
      ]
     },
     "execution_count": 21,
     "metadata": {},
     "output_type": "execute_result"
    },
    {
     "data": {
      "image/png": "[encoded data removed]",
      "text/plain": [
       "<Figure size 432x288 with 1 Axes>"
      ]
     },
     "metadata": {
      "needs_background": "light"
     },
     "output_type": "display_data"
    }
   ],
   "source": [
    "from sklearn.metrics import confusion_matrix, accuracy_score, roc_auc_score\n",
    "cm_hgb = confusion_matrix(y_test, y_pred_only_mf)\n",
    "\n",
    "#Plot the confusion Matrix\n",
    "import matplotlib.pyplot as plt\n",
    "import seaborn as sns\n",
    "\n",
    "ax = sns.heatmap(cm_hgb, linewidths = 0.5, cmap = \"viridis\", annot = cm_hgb, cbar = False)\n",
    "ax.set_xticks([0.5, 1.5, 2.5])\n",
    "ax.set_yticks([0.5, 1.5, 2.5])\n",
    "ax.set_xticklabels(['1','2','3'])\n",
    "ax.set_yticklabels(['1', '2', '3'])\n",
    "plt.xlabel(\"Predicted\")\n",
    "plt.ylabel(\"Observed\")\n",
    "plt.title('Confusion Matrix of the Cross Validation using HGB', fontdict={'fontsize': 16, 'fontweight': 'medium'})"
   ]
  },
  {
   "cell_type": "code",
   "execution_count": 22,
   "metadata": {},
   "outputs": [
    {
     "name": "stdout",
     "output_type": "stream",
     "text": [
      "Accuracy with all sensors: 75.417 (12.247)\n",
      "Recall with all sensors: 76.538 (10.735)\n",
      "Accuracy without cp: 66.979 (12.259)\n",
      "Recall without cp: 66.923 (12.427)\n",
      "Accuracy without 532: 70.938 (16.516)\n",
      "Recall without 532: 71.154 (17.350)\n",
      "Accuracy without cp and F532: 58.750 (11.055)\n",
      "Recall without cp and F532: 57.692 (12.522)\n",
      "Accuracy without cp, bbp and F532: 41.458 (9.658)\n",
      "Recall without cp, bbp and F532: 40.385 (9.692)\n",
      "Accuracy with only mf: 63.854 (8.992)\n",
      "Recall with only mf: 63.462 (9.061)\n",
      "Accuracy without 440: 61.875 (8.992)\n",
      "Recall without 440: 62.692 (9.061)\n"
     ]
    }
   ],
   "source": [
    "from sklearn.model_selection import cross_val_score\n",
    "from sklearn.model_selection import StratifiedShuffleSplit\n",
    "cv = StratifiedShuffleSplit(n_splits=20, random_state=0)\n",
    "n_scores = cross_val_score(new_hgb, X_resampled, y_resampled, scoring = \"balanced_accuracy\", cv = cv, n_jobs = 2)\n",
    "rec_scores = cross_val_score(new_hgb, X_resampled.values, y_resampled.values, scoring = \"recall_weighted\", cv = cv, n_jobs = 2)\n",
    "scores_no_cp = cross_val_score(new_hgb, X_no_cp, y_resampled, scoring = \"balanced_accuracy\", cv = cv, n_jobs = 2)\n",
    "recall_no_cp = cross_val_score(new_hgb, X_no_cp, y_resampled, scoring = \"recall_weighted\", cv = cv, n_jobs = 2)\n",
    "scores_no_532 = cross_val_score(new_hgb, X_no_532, y_resampled, scoring = \"balanced_accuracy\", cv = cv, n_jobs = 2)\n",
    "recall_no_532 = cross_val_score(new_hgb, X_no_532, y_resampled, scoring = \"recall_weighted\", cv = cv, n_jobs = 2)\n",
    "scores_no_cp_no_532 = cross_val_score(new_hgb, X_no_cp_no_532, y_resampled, scoring = \"balanced_accuracy\", cv = cv, n_jobs = 2)\n",
    "recall_no_cp_no_532 = cross_val_score(new_hgb, X_no_cp_no_532, y_resampled, scoring = \"recall_weighted\", cv = cv, n_jobs = 2)\n",
    "scores_no_cp_no_bbp_no_532 = cross_val_score(new_hgb, X_no_bbp_no_cp_no_532 , y_resampled, scoring = \"balanced_accuracy\", cv = cv, n_jobs = 2)\n",
    "recall_no_cp_no_bbp_no_532 = cross_val_score(new_hgb, X_no_bbp_no_cp_no_532 , y_resampled, scoring = \"recall_weighted\", cv = cv, n_jobs = 2)\n",
    "scores_only_mf = cross_val_score(new_hgb, X_only_mf , y_resampled, scoring = \"balanced_accuracy\", cv = cv, n_jobs = 2)\n",
    "recall_only_mf = cross_val_score(new_hgb, X_only_mf , y_resampled, scoring = \"recall_weighted\", cv = cv, n_jobs = 2)\n",
    "scores_oligo = cross_val_score(new_hgb, X_oligo , y_resampled, scoring = \"balanced_accuracy\", cv = cv, n_jobs = 2)\n",
    "recall_oligo = cross_val_score(new_hgb, X_oligo , y_resampled, scoring = \"recall_weighted\", cv = cv, n_jobs = 2)\n",
    "\n",
    "\n",
    "\n",
    "\n",
    "print('Accuracy with all sensors: %.3f (%.3f)' % (n_scores.mean()*100, n_scores.std()*100))\n",
    "print('Recall with all sensors: %.3f (%.3f)' % (rec_scores.mean()*100, rec_scores.std()*100))\n",
    "\n",
    "print('Accuracy without cp: %.3f (%.3f)' % (scores_no_cp.mean()*100, scores_no_cp.std()*100))\n",
    "print('Recall without cp: %.3f (%.3f)' % (recall_no_cp.mean()*100, recall_no_cp.std()*100))\n",
    "\n",
    "print('Accuracy without 532: %.3f (%.3f)' % (scores_no_532.mean()*100, scores_no_532.std()*100))\n",
    "print('Recall without 532: %.3f (%.3f)' % (recall_no_532.mean()*100, recall_no_532.std()*100))\n",
    "\n",
    "print('Accuracy without cp and F532: %.3f (%.3f)' % (scores_no_cp_no_532.mean()*100, scores_no_cp_no_532.std()*100))\n",
    "print('Recall without cp and F532: %.3f (%.3f)' % (recall_no_cp_no_532.mean()*100, recall_no_cp_no_532.std()*100))\n",
    "\n",
    "print('Accuracy without cp, bbp and F532: %.3f (%.3f)' % (scores_no_cp_no_bbp_no_532.mean()*100, scores_no_cp_no_bbp_no_532.std()*100))\n",
    "print('Recall without cp, bbp and F532: %.3f (%.3f)' % (recall_no_cp_no_bbp_no_532.mean()*100, recall_no_cp_no_bbp_no_532.std()*100))\n",
    "\n",
    "print('Accuracy with only mf: %.3f (%.3f)' % (scores_only_mf.mean()*100, scores_only_mf.std()*100))\n",
    "print('Recall with only mf: %.3f (%.3f)' % (recall_only_mf.mean()*100, recall_only_mf.std()*100))\n",
    "\n",
    "print('Accuracy without 440: %.3f (%.3f)' % (scores_oligo.mean()*100, scores_only_mf.std()*100))\n",
    "print('Recall without 440: %.3f (%.3f)' % (recall_oligo.mean()*100, recall_only_mf.std()*100))\n"
   ]
  },
  {
   "cell_type": "code",
   "execution_count": 23,
   "metadata": {},
   "outputs": [],
   "source": [
    "from functools import reduce\n",
    "\n",
    "def unique(list1):\n",
    "    x = np.array(list1)\n",
    "    return(np.unique(x))\n",
    "    \n",
    "def plot_recall_score(X_list, y, X_names, cv = 10, return_scores = False, savepath = \"\"):\n",
    "    \"\"\" \n",
    "            X: numpy_array/pandas dataframe n_rows, m_features\n",
    "            y: numpy_array/pandas dataframe n_rows\n",
    "            Plots min, max and avg kfold crosval_score for a list of models\n",
    "        \n",
    "    \"\"\"\n",
    "    \n",
    "        \n",
    "    \n",
    "    names, mean_score = list(), list()\n",
    "    std_score = list()\n",
    "    ldf, ldf_std = list(), list()\n",
    "    #mnames = list()\n",
    "    \n",
    "    for i, cluster in enumerate(unique(y)):\n",
    "\n",
    "        rec_clust_desc, rec_clust_desc_error = list(), list()\n",
    "\n",
    "        name = i\n",
    "     \n",
    "        for descriptors in X_list:\n",
    "            \n",
    "            rec_clust = list()\n",
    "\n",
    "            for train_index, test_index in cv.split(descriptors, y):\n",
    "                X_train, X_test = descriptors.iloc[train_index], descriptors.iloc[test_index]\n",
    "                y_train, y_test = y.iloc[train_index], y.iloc[test_index]\n",
    "                clf = new_hgb.fit(X_train, y_train)\n",
    "                y_pred = clf.predict(X_test)\n",
    "                rec = recall_score(y_test, y_pred, average=None)[i]\n",
    "                \n",
    "                rec_clust.append(rec)\n",
    "\n",
    "            rec_clust_desc_mean = np.array(rec_clust).mean()\n",
    "            rec_clust_desc_std = np.array(rec_clust).std()\n",
    "            \n",
    "            rec_clust_desc.append(rec_clust_desc_mean)\n",
    "            rec_clust_desc_error.append(rec_clust_desc_std)\n",
    "            \n",
    "    \n",
    "        tmp = pd.DataFrame({name: rec_clust_desc}, index = X_names)\n",
    "        tmp_std = pd.DataFrame({name: rec_clust_desc_error}, index = X_names)\n",
    "            \n",
    "            \n",
    "        ldf.append(tmp)\n",
    "        ldf_std.append(tmp_std)\n",
    "        \n",
    "        \n",
    "        mean_score = list()\n",
    "    \n",
    "    X = X_list[1]\n",
    "        \n",
    "    frame_scores = reduce(lambda X,y: pd.merge(X,y, left_index = True, right_index = True), ldf).T\n",
    "    frame_std = reduce(lambda X,y: pd.merge(X,y, left_index = True, right_index = True), ldf_std).T\n",
    "        \n",
    "    \n",
    "    \n",
    "    fig, ax  = plt.subplots(1,1, figsize = (10,5))\n",
    "\n",
    "    frame_scores.plot.bar(ax = ax, cmap = 'RdYlBu', edgecolor = \"black\", yerr= frame_std)\n",
    "    ax.legend(loc = 'best')\n",
    "    ax.set_xlabel(\"\")\n",
    "    ax.set_title(\"Recall score by cluster for different sensors packages\")\n",
    "    ax.set_xticklabels([\"Cluster 1\", \"Cluster 2\", \"Cluster 3\", \"Cluster 4\"])\n",
    "    plt.setp( ax.xaxis.get_majorticklabels(), rotation= 90 ) \n",
    "    \n",
    "    fig.savefig(savepath, dpi = 300, bbox_inches='tight')\n",
    "\n",
    "    if return_scores:    \n",
    "        return frame_scores"
   ]
  },
  {
   "cell_type": "code",
   "execution_count": 24,
   "metadata": {},
   "outputs": [],
   "source": [
    "from functools import reduce\n",
    "\n",
    "def unique(list1):\n",
    "    x = np.array(list1)\n",
    "    return(np.unique(x))\n",
    "    \n",
    "def plot_precision_score(X_list, y, X_names, cv = 10, return_scores = False, savepath = \"\"):\n",
    "    \"\"\" \n",
    "            X: numpy_array/pandas dataframe n_rows, m_features\n",
    "            y: numpy_array/pandas dataframe n_rows\n",
    "            Plots min, max and avg kfold crosval_score for a list of models\n",
    "        \n",
    "    \"\"\"\n",
    "    \n",
    "        \n",
    "    \n",
    "    names, mean_score = list(), list()\n",
    "    std_score = list()\n",
    "    ldf, ldf_std = list(), list()\n",
    "    #mnames = list()\n",
    "    \n",
    "    for i, cluster in enumerate(unique(y)):\n",
    "\n",
    "        prec_clust_desc, prec_clust_desc_error = list(), list()\n",
    "\n",
    "        name = i\n",
    "     \n",
    "        for descriptors in X_list:\n",
    "            \n",
    "            prec_clust = list()\n",
    "\n",
    "            for train_index, test_index in cv.split(descriptors, y):\n",
    "                X_train, X_test = descriptors.iloc[train_index], descriptors.iloc[test_index]\n",
    "                y_train, y_test = y.iloc[train_index], y.iloc[test_index]\n",
    "                clf = new_hgb.fit(X_train, y_train)\n",
    "                y_pred = clf.predict(X_test)\n",
    "                prec = precision_score(y_test, y_pred, average=None)[i]\n",
    "                \n",
    "                prec_clust.append(prec)\n",
    "\n",
    "            prec_clust_desc_mean = np.array(prec_clust).mean()\n",
    "            prec_clust_desc_std = np.array(prec_clust).std()\n",
    "            \n",
    "            prec_clust_desc.append(prec_clust_desc_mean)\n",
    "            prec_clust_desc_error.append(prec_clust_desc_std)\n",
    "            \n",
    "    \n",
    "        tmp = pd.DataFrame({name: prec_clust_desc}, index = X_names)\n",
    "        tmp_std = pd.DataFrame({name: prec_clust_desc_error}, index = X_names)\n",
    "            \n",
    "            \n",
    "        ldf.append(tmp)\n",
    "        ldf_std.append(tmp_std)\n",
    "        \n",
    "        \n",
    "        mean_score = list()\n",
    "    \n",
    "    X = X_list[1]\n",
    "        \n",
    "    frame_scores = reduce(lambda X,y: pd.merge(X,y, left_index = True, right_index = True), ldf).T\n",
    "    frame_std = reduce(lambda X,y: pd.merge(X,y, left_index = True, right_index = True), ldf_std).T\n",
    "        \n",
    "    \n",
    "    \n",
    "    fig, ax  = plt.subplots(1,1, figsize = (10,5))\n",
    "\n",
    "    frame_scores.plot.bar(ax = ax, cmap = 'RdYlBu', edgecolor = \"black\", yerr= frame_std)\n",
    "    ax.legend(loc = 'best')\n",
    "    ax.set_xlabel(\"\")\n",
    "    ax.set_title(\"Precision score by cluster for different sensors packages\")\n",
    "    ax.set_xticklabels([\"Cluster 1\", \"Cluster 2\", \"Cluster 3\", \"Cluster 4\"])\n",
    "    fig.savefig(savepath, dpi = 300, bbox_inches='tight')\n",
    "\n",
    "    if return_scores:    \n",
    "        return frame_scores"
   ]
  },
  {
   "cell_type": "code",
   "execution_count": 26,
   "metadata": {},
   "outputs": [
    {
     "data": {
      "image/png": "[encoded data removed]",
      "text/plain": [
       "<Figure size 720x360 with 1 Axes>"
      ]
     },
     "metadata": {
      "needs_background": "light"
     },
     "output_type": "display_data"
    }
   ],
   "source": [
    "from sklearn.metrics import accuracy_score, recall_score\n",
    "from sklearn.datasets import load_breast_cancer\n",
    "from sklearn.model_selection import cross_val_score\n",
    "from sklearn.pipeline import Pipeline\n",
    "import numpy as np\n",
    "\n",
    "y = y_resampled\n",
    "\n",
    "X_configs =[X_resampled,\n",
    "         X_no_532,\n",
    "         X_no_cp,\n",
    "         X_no_cp_no_532,\n",
    "         X_only_mf]\n",
    "\n",
    "X_def = [\"F440 + F470 + F532 + Bbp + Cp\", \"F440 + F470 + Bbp+ Cp\", \"F440 + F470 + F532 + Bbp\", \"F440 + F470 + Bbp\", \"F440 + F470 + F532\"]\n",
    "\n",
    "recall_plot = plot_recall_score(X_list = X_configs, y = y_resampled, X_names = X_def, cv = StratifiedShuffleSplit(n_splits=20, random_state=0, test_size = 0.2), return_scores=True, savepath = \"C:\\\\Users\\petit\\Documents\\These\\Multispectral-Fluorescence\\Boussole\\Output\\Plots\\\\recall_test.png\")"
   ]
  },
  {
   "cell_type": "code",
   "execution_count": 27,
   "metadata": {},
   "outputs": [
    {
     "name": "stderr",
     "output_type": "stream",
     "text": [
      "c:\\Users\\petit\\AppData\\Local\\Programs\\Python\\Python310\\lib\\site-packages\\sklearn\\metrics\\_classification.py:1327: UndefinedMetricWarning: Precision is ill-defined and being set to 0.0 in labels with no predicted samples. Use `zero_division` parameter to control this behavior.\n",
      "  _warn_prf(average, modifier, msg_start, len(result))\n",
      "c:\\Users\\petit\\AppData\\Local\\Programs\\Python\\Python310\\lib\\site-packages\\sklearn\\metrics\\_classification.py:1327: UndefinedMetricWarning: Precision is ill-defined and being set to 0.0 in labels with no predicted samples. Use `zero_division` parameter to control this behavior.\n",
      "  _warn_prf(average, modifier, msg_start, len(result))\n",
      "c:\\Users\\petit\\AppData\\Local\\Programs\\Python\\Python310\\lib\\site-packages\\sklearn\\metrics\\_classification.py:1327: UndefinedMetricWarning: Precision is ill-defined and being set to 0.0 in labels with no predicted samples. Use `zero_division` parameter to control this behavior.\n",
      "  _warn_prf(average, modifier, msg_start, len(result))\n",
      "c:\\Users\\petit\\AppData\\Local\\Programs\\Python\\Python310\\lib\\site-packages\\sklearn\\metrics\\_classification.py:1327: UndefinedMetricWarning: Precision is ill-defined and being set to 0.0 in labels with no predicted samples. Use `zero_division` parameter to control this behavior.\n",
      "  _warn_prf(average, modifier, msg_start, len(result))\n"
     ]
    },
    {
     "data": {
      "image/png": "[encoded data removed]",
      "text/plain": [
       "<Figure size 720x360 with 1 Axes>"
      ]
     },
     "metadata": {
      "needs_background": "light"
     },
     "output_type": "display_data"
    }
   ],
   "source": [
    "from sklearn.metrics import precision_score\n",
    "t = plot_precision_score(X_list = X_configs, y = y_resampled, X_names = X_def, cv = StratifiedShuffleSplit(n_splits=20, random_state = 0, test_size = 0.2), return_scores=True, savepath = \"C:\\\\Users\\petit\\Documents\\These\\Multispectral-Fluorescence\\Boussole\\Output\\Plots\\\\precision2.png\")"
   ]
  },
  {
   "cell_type": "code",
   "execution_count": 39,
   "metadata": {},
   "outputs": [],
   "source": [
    "data = pd.read_csv(\"C:\\\\Users\\petit\\Documents\\These\\Multispectral-Fluorescence\\Boussole\\Output\\Data\\Compiled\\hplc_mf_2_clusterised_cp.csv\")\n",
    "\n",
    "data = data.assign(f440_bbp = lambda x: x['fluo_440']/x['bb700'],\n",
    "                f470_bbp= lambda x: x['fluo_470']/x['bb700'],\n",
    "                f532_bbp = lambda x: x['fluo_532']/x['bb700'],\n",
    "                f532_cp = lambda x: x['fluo_532']/x['cp'],\n",
    "                f440_cp = lambda x: x['fluo_440']/x['cp'],\n",
    "                f470_cp = lambda x: x['fluo_470']/x['cp'],\n",
    "                f440b_f470b = lambda x: x['f440_bbp']/x['f470_bbp'],\n",
    "                f532b_f470b = lambda x: x['f532_bbp']/x['f470_bbp'],\n",
    "                f532_f440 = lambda x: x['fluo_532']/x['fluo_440'],\n",
    "                bbp_cp = lambda x: x['bb700']/x['cp'])\n",
    "\n",
    "full_descriptors = data[[\"f440_f470\", \"f532_f470\", \"bbp_cp\", \"f440_bbp\", \"f470_bbp\", \"f532_bbp\", \"f440_cp\", \"f470_cp\"]]\n",
    "target = data[\"cluster\"]\n",
    "\n",
    "ros = RandomOverSampler()\n",
    "#X_resampled, y_resampled = ros.fit_resample(new_descriptors, target)\n",
    "X_full, y_full = SMOTE().fit_resample(full_descriptors, target)"
   ]
  },
  {
   "cell_type": "code",
   "execution_count": 40,
   "metadata": {},
   "outputs": [],
   "source": [
    "new_descriptors = data[[\"f440_f470\", \"f532_f470\", \"bbp_cp\", \"f440_bbp\", \"f470_bbp\", \"f532_bbp\", \"f440_cp\", \"f470_cp\"]]\n",
    "no_cp = data[[\"f440_f470\", \"f532_f470\", \"f440_bbp\", \"f470_bbp\", \"f532_bbp\"]]\n",
    "no_532 = data[[\"f440_f470\", \"bbp_cp\", \"f440_bbp\", \"f470_bbp\", \"f440_cp\", \"f470_cp\"]]\n",
    "no_cp_no_532 = data[[\"f440_f470\", \"f440_bbp\", \"f470_bbp\"]]\n",
    "no_bbp_no_cp_no_532 = data[[\"f440_f470\"]]\n",
    "no_440 = data[[\"f532_f470\", \"bbp_cp\", \"f470_bbp\", \"f532_bbp\", \"f470_cp\"]]\n",
    "only_mf = data[[\"f440_f470\", \"f532_f470\"]]\n",
    "\n",
    "\n",
    "ros = RandomOverSampler()\n",
    "#X_resampled, y_resampled = ros.fit_resample(new_descriptors, target)\n",
    "X_resampled, y_resampled = SMOTE().fit_resample(new_descriptors, target)\n",
    "X_no_cp, y_resampled = SMOTE().fit_resample(no_cp, target)\n",
    "X_no_532, y_resampled = SMOTE().fit_resample(no_532, target)\n",
    "X_no_cp_no_532, y_resampled = SMOTE().fit_resample(no_cp_no_532, target)\n",
    "X_no_bbp_no_cp_no_532, y_resampled = SMOTE().fit_resample(no_bbp_no_cp_no_532, target)\n",
    "X_oligo, y_resampled = SMOTE().fit_resample(no_440, target)\n",
    "X_only_mf, y_resampled = SMOTE().fit_resample(only_mf, target)"
   ]
  },
  {
   "cell_type": "code",
   "execution_count": 41,
   "metadata": {},
   "outputs": [],
   "source": [
    "from sklearn.model_selection import train_test_split\n",
    "X_train, X_test, y_train, y_test = train_test_split(X_resampled, y_resampled, test_size =0.3, stratify = y_resampled, random_state=0)\n",
    "X_train_no_cp, X_test_no_cp, y_train, y_test = train_test_split(X_no_cp, y_resampled, test_size =0.3, stratify = y_resampled, random_state=0)\n",
    "X_train_no_532, X_test_no_532, y_train, y_test = train_test_split(X_no_532, y_resampled, test_size =0.3, stratify = y_resampled, random_state=0)\n",
    "X_train_no_cp_no_532, X_test_no_cp_no_532, y_train, y_test = train_test_split(X_no_cp_no_532, y_resampled, test_size =0.3, stratify = y_resampled, random_state=0)\n",
    "X_train_no_bbp_no_cp_no_532, X_test_no_bbp_no_cp_no_532, y_train, y_test = train_test_split(X_no_bbp_no_cp_no_532, y_resampled, test_size =0.3, stratify = y_resampled, random_state=0)\n",
    "X_train_only_mf, X_test_only_mf, y_train, y_test = train_test_split(X_only_mf, y_resampled, test_size =0.3, stratify = y_resampled, random_state=0)\n",
    "X_train_oligo, X_test_oligo, y_train, y_test = train_test_split(X_oligo, y_resampled, test_size =0.3, stratify = y_resampled, random_state=0)\n"
   ]
  },
  {
   "cell_type": "code",
   "execution_count": 42,
   "metadata": {},
   "outputs": [],
   "source": [
    "#histogram boosting gradient classifer\n",
    "\n",
    "new_hgb.fit(X_train,y_train)\n",
    "y_pred_hgb = new_hgb.predict(X_test)\n",
    "\n",
    "new_hgb.fit(X_train_no_cp,y_train)\n",
    "y_pred_no_cp = new_hgb.predict(X_test_no_cp)\n",
    "\n",
    "new_hgb.fit(X_train_no_532,y_train)\n",
    "y_pred_no_532 = new_hgb.predict(X_test_no_532)\n",
    "\n",
    "new_hgb.fit(X_train_no_cp_no_532,y_train)\n",
    "y_pred_no_cp_no_532 = new_hgb.predict(X_test_no_cp_no_532)\n",
    "\n",
    "new_hgb.fit(X_train_no_bbp_no_cp_no_532,y_train)\n",
    "y_pred_no_bbp_no_cp_no_532 = new_hgb.predict(X_test_no_bbp_no_cp_no_532)\n",
    "\n",
    "new_hgb.fit(X_train_only_mf, y_train)\n",
    "y_pred_only_mf = new_hgb.predict(X_test_only_mf)\n",
    "\n",
    "new_hgb.fit(X_train_oligo, y_train)\n",
    "y_pred_oligo = new_hgb.predict(X_test_oligo)\n"
   ]
  },
  {
   "cell_type": "code",
   "execution_count": 43,
   "metadata": {},
   "outputs": [
    {
     "name": "stdout",
     "output_type": "stream",
     "text": [
      "Accuracy with all sensors: 83.500 (10.618)\n",
      "Recall with all sensors: 84.000 (9.165)\n",
      "Accuracy without cp: 78.000 (10.296)\n",
      "Recall without cp: 76.000 (10.198)\n",
      "Accuracy without 532: 80.500 (12.440)\n",
      "Recall without 532: 79.500 (12.440)\n",
      "Accuracy without cp and F532: 78.000 (10.296)\n",
      "Recall without cp and F532: 78.000 (10.296)\n",
      "Accuracy without cp, bbp and F532: 71.000 (10.909)\n",
      "Recall without cp, bbp and F532: 71.000 (10.909)\n",
      "Accuracy with only mf: 68.000 (16.912)\n",
      "Recall with only mf: 69.500 (17.168)\n",
      "Accuracy without 440: 80.500 (16.912)\n",
      "Recall without 440: 81.000 (17.168)\n"
     ]
    }
   ],
   "source": [
    "from sklearn.model_selection import cross_val_score\n",
    "from sklearn.model_selection import StratifiedShuffleSplit\n",
    "cv = StratifiedShuffleSplit(n_splits=20, random_state=0)\n",
    "n_scores = cross_val_score(new_hgb, X_resampled, y_resampled, scoring = \"balanced_accuracy\", cv = cv, n_jobs = 2)\n",
    "rec_scores = cross_val_score(new_hgb, X_resampled.values, y_resampled.values, scoring = \"recall_weighted\", cv = cv, n_jobs = 2)\n",
    "scores_no_cp = cross_val_score(new_hgb, X_no_cp, y_resampled, scoring = \"balanced_accuracy\", cv = cv, n_jobs = 2)\n",
    "recall_no_cp = cross_val_score(new_hgb, X_no_cp, y_resampled, scoring = \"recall_weighted\", cv = cv, n_jobs = 2)\n",
    "scores_no_532 = cross_val_score(new_hgb, X_no_532, y_resampled, scoring = \"balanced_accuracy\", cv = cv, n_jobs = 2)\n",
    "recall_no_532 = cross_val_score(new_hgb, X_no_532, y_resampled, scoring = \"recall_weighted\", cv = cv, n_jobs = 2)\n",
    "scores_no_cp_no_532 = cross_val_score(new_hgb, X_no_cp_no_532, y_resampled, scoring = \"balanced_accuracy\", cv = cv, n_jobs = 2)\n",
    "recall_no_cp_no_532 = cross_val_score(new_hgb, X_no_cp_no_532, y_resampled, scoring = \"recall_weighted\", cv = cv, n_jobs = 2)\n",
    "scores_no_cp_no_bbp_no_532 = cross_val_score(new_hgb, X_no_bbp_no_cp_no_532 , y_resampled, scoring = \"balanced_accuracy\", cv = cv, n_jobs = 2)\n",
    "recall_no_cp_no_bbp_no_532 = cross_val_score(new_hgb, X_no_bbp_no_cp_no_532 , y_resampled, scoring = \"recall_weighted\", cv = cv, n_jobs = 2)\n",
    "scores_only_mf = cross_val_score(new_hgb, X_only_mf , y_resampled, scoring = \"balanced_accuracy\", cv = cv, n_jobs = 2)\n",
    "recall_only_mf = cross_val_score(new_hgb, X_only_mf , y_resampled, scoring = \"recall_weighted\", cv = cv, n_jobs = 2)\n",
    "scores_oligo = cross_val_score(new_hgb, X_oligo , y_resampled, scoring = \"balanced_accuracy\", cv = cv, n_jobs = 2)\n",
    "recall_oligo = cross_val_score(new_hgb, X_oligo , y_resampled, scoring = \"recall_weighted\", cv = cv, n_jobs = 2)\n",
    "\n",
    "\n",
    "\n",
    "\n",
    "print('Accuracy with all sensors: %.3f (%.3f)' % (n_scores.mean()*100, n_scores.std()*100))\n",
    "print('Recall with all sensors: %.3f (%.3f)' % (rec_scores.mean()*100, rec_scores.std()*100))\n",
    "\n",
    "print('Accuracy without cp: %.3f (%.3f)' % (scores_no_cp.mean()*100, scores_no_cp.std()*100))\n",
    "print('Recall without cp: %.3f (%.3f)' % (recall_no_cp.mean()*100, recall_no_cp.std()*100))\n",
    "\n",
    "print('Accuracy without 532: %.3f (%.3f)' % (scores_no_532.mean()*100, scores_no_532.std()*100))\n",
    "print('Recall without 532: %.3f (%.3f)' % (recall_no_532.mean()*100, recall_no_532.std()*100))\n",
    "\n",
    "print('Accuracy without cp and F532: %.3f (%.3f)' % (scores_no_cp_no_532.mean()*100, scores_no_cp_no_532.std()*100))\n",
    "print('Recall without cp and F532: %.3f (%.3f)' % (recall_no_cp_no_532.mean()*100, recall_no_cp_no_532.std()*100))\n",
    "\n",
    "print('Accuracy without cp, bbp and F532: %.3f (%.3f)' % (scores_no_cp_no_bbp_no_532.mean()*100, scores_no_cp_no_bbp_no_532.std()*100))\n",
    "print('Recall without cp, bbp and F532: %.3f (%.3f)' % (recall_no_cp_no_bbp_no_532.mean()*100, recall_no_cp_no_bbp_no_532.std()*100))\n",
    "\n",
    "print('Accuracy with only mf: %.3f (%.3f)' % (scores_only_mf.mean()*100, scores_only_mf.std()*100))\n",
    "print('Recall with only mf: %.3f (%.3f)' % (recall_only_mf.mean()*100, recall_only_mf.std()*100))\n",
    "\n",
    "print('Accuracy without 440: %.3f (%.3f)' % (scores_oligo.mean()*100, scores_only_mf.std()*100))\n",
    "print('Recall without 440: %.3f (%.3f)' % (recall_oligo.mean()*100, recall_only_mf.std()*100))\n"
   ]
  },
  {
   "cell_type": "code",
   "execution_count": null,
   "metadata": {},
   "outputs": [],
   "source": [
    "\n",
    "precision_plot = plot_precision_score(X_list = X_configs, y = y_resampled, X_names = X_def, cv = StratifiedShuffleSplit(n_splits=20, random_state=0, test_size = 0.2), return_scores=True, savepath = \"C:\\\\Users\\petit\\Documents\\These\\Multispectral-Fluorescence\\Boussole\\Output\\Plots\\\\precision_3_cluster.png\")"
   ]
  },
  {
   "cell_type": "code",
   "execution_count": null,
   "metadata": {},
   "outputs": [],
   "source": [
    "#test to predict on the ctd data\n",
    "\n",
    "ctd_data = pd.read_csv(\"C:\\\\Users\\petit\\Documents\\These\\Multispectral-Fluorescence\\Boussole\\Output\\Data\\Compiled\\\\test_continuous_data.csv\")\n",
    "\n",
    "#select the raw descriptors\n",
    "descriptors_raw_name = [\"fluo_440\", \"fluo_470\", \"fluo_532\", \"bb700\", \"cp\"]\n",
    "\n",
    "#select the profile\n",
    "prof_selected = 233\n",
    "ctd_prof = ctd_data[ctd_data.bouss == prof_selected]\n",
    "ctd_prof = ctd_prof[ctd_prof.depth < 81]\n",
    "ctd_prof=ctd_prof.dropna().reset_index(drop=True)\n",
    "\n",
    "#get descriptors\n",
    "descriptors_raw = ctd_prof[descriptors_raw_name]\n",
    "\n",
    "descriptors_raw.head()"
   ]
  },
  {
   "cell_type": "code",
   "execution_count": null,
   "metadata": {},
   "outputs": [],
   "source": [
    "descriptors = descriptors_raw.assign(f440_bbp = lambda x: x['fluo_440']/x['bb700'],\n",
    "                f470_bbp= lambda x: x['fluo_470']/x['bb700'],\n",
    "                f532_bbp = lambda x: x['fluo_532']/x['bb700'],\n",
    "                f440_f470 = lambda x: x['fluo_440']/x['fluo_470'],\n",
    "                f532_f470 = lambda x: x['fluo_532']/x['fluo_470'],\n",
    "                f532_cp = lambda x: x['fluo_532']/x['cp'],\n",
    "                f440_cp = lambda x: x['fluo_440']/x['cp'],\n",
    "                f470_cp = lambda x: x['fluo_470']/x['cp'],\n",
    "                f440b_f470b = lambda x: x['f440_bbp']/x['f470_bbp'],\n",
    "                f532b_f470b = lambda x: x['f532_bbp']/x['f470_bbp'],\n",
    "                f532_f440 = lambda x: x['fluo_532']/x['fluo_440'],\n",
    "                bbp_cp = lambda x: x['bb700']/x['cp'])\n",
    "\n",
    "descriptors = descriptors[[\"f440_f470\", \"f532_f470\", \"bbp_cp\", \"f440_bbp\", \"f470_bbp\", \"f532_bbp\", \"f440_cp\", \"f470_cp\"]]\n",
    "\n",
    "descriptors.head()"
   ]
  },
  {
   "cell_type": "code",
   "execution_count": null,
   "metadata": {},
   "outputs": [],
   "source": [
    "new_hgb.fit(X_full,y_full)\n",
    "cluster_predicted = new_hgb.predict(descriptors)"
   ]
  },
  {
   "cell_type": "code",
   "execution_count": null,
   "metadata": {},
   "outputs": [],
   "source": [
    "ctd_prof_clust = ctd_prof.assign(pop = cluster_predicted)"
   ]
  },
  {
   "cell_type": "code",
   "execution_count": null,
   "metadata": {},
   "outputs": [],
   "source": [
    "import seaborn as sb\n",
    "ctd_prof_clust['depth'] = -ctd_prof_clust['depth']\n",
    "\n",
    "fg = sb.FacetGrid(data=ctd_prof_clust, hue='pop', aspect=1.61, palette=[\"#e41a1c\", \"#377eb8\", \"#4daf4a\", \"#984ea3\"])\n",
    "fg.map(plt.scatter, 'fluo_470', 'depth').add_legend()"
   ]
  }
 ],
 "metadata": {
  "interpreter": {
   "hash": "943ed34171d39dfc5963e092ee45c4defab27804e5d0efd9eadec1d198338c10"
  },
  "kernelspec": {
   "display_name": "Python 3.10.4 64-bit",
   "language": "python",
   "name": "python3"
  },
  "language_info": {
   "codemirror_mode": {
    "name": "ipython",
    "version": 3
   },
   "file_extension": ".py",
   "mimetype": "text/x-python",
   "name": "python",
   "nbconvert_exporter": "python",
   "pygments_lexer": "ipython3",
   "version": "3.10.4"
  },
  "orig_nbformat": 4
 },
 "nbformat": 4,
 "nbformat_minor": 2
}
