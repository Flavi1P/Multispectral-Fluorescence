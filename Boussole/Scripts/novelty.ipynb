{
 "cells": [
  {
   "cell_type": "markdown",
   "metadata": {},
   "source": [
    "# Novelty detection\n",
    "\n",
    "Let's try to detect if the in situ data point are considered as outliers regarding the laboratory cultures. If so, it justify the need to create new category to predict from the in situ data, instead of the dominant taxa."
   ]
  },
  {
   "cell_type": "code",
   "execution_count": null,
   "metadata": {},
   "outputs": [],
   "source": [
    "# import lab and insitu dataset\n",
    "\n",
    "insitu = pd.read_csv(\"/home/flavien/Documents/these/mf/Boussole/Data/labo/results_reshape.csv\")\n",
    "\n",
    "#filter data with less than 0.2 chla\n",
    "insitu_conc = insitu[insitu['chla_conc_spectro'] > 0.2]\n",
    "\n",
    "#select the cols we want\n",
    "insitu_sel = insitu_conc[[\"440nm_mean\", \"470nm_mean\", \"532nm_mean\", \"strain\", \"replicate\"]]\n",
    "\n",
    "#remove the NaN\n",
    "insitu_sel = insitu_sel.dropna()\n",
    "\n",
    "#rename columns to make it easier to work with\n",
    "insitu_sel = insitu_sel.rename(columns = {\"440nm_mean\": \"f440\",\n",
    "                                    \"470nm_mean\": \"f470\",\n",
    "                                    \"532nm_mean\": \"f532\"})\n",
    "\n",
    "#compute the ratio between each excitation channel\n",
    "insitu_sel = insitu_sel.assign(f440_f470 = lambda x: x['f440']/x['f470'],\n",
    "                f532_f470 = lambda x: x['f532']/x['f470'],\n",
    "                f532_f440 = lambda x: x['f532']/x['f440'])"
   ]
  }
 ],
 "metadata": {
  "language_info": {
   "name": "python"
  },
  "orig_nbformat": 4
 },
 "nbformat": 4,
 "nbformat_minor": 2
}
